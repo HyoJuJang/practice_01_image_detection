{
  "nbformat": 4,
  "nbformat_minor": 0,
  "metadata": {
    "kernelspec": {
      "display_name": "Python 3",
      "language": "python",
      "name": "python3"
    },
    "language_info": {
      "codemirror_mode": {
        "name": "ipython",
        "version": 3
      },
      "file_extension": ".py",
      "mimetype": "text/x-python",
      "name": "python",
      "nbconvert_exporter": "python",
      "pygments_lexer": "ipython3",
      "version": "3.8.3"
    },
    "colab": {
      "name": "read_pickles.ipynb",
      "provenance": [],
      "collapsed_sections": [],
      "include_colab_link": true
    },
    "accelerator": "GPU"
  },
  "cells": [
    {
      "cell_type": "markdown",
      "metadata": {
        "id": "view-in-github",
        "colab_type": "text"
      },
      "source": [
        "<a href=\"https://colab.research.google.com/github/HyoJuJang/traffic/blob/master/read_pickles.ipynb\" target=\"_parent\"><img src=\"https://colab.research.google.com/assets/colab-badge.svg\" alt=\"Open In Colab\"/></a>"
      ]
    },
    {
      "cell_type": "markdown",
      "metadata": {
        "id": "HAUzHk0sjiyo"
      },
      "source": [
        "# BASELINE"
      ]
    },
    {
      "cell_type": "markdown",
      "metadata": {
        "id": "r3V7vLOWjiyq"
      },
      "source": [
        "### 코드 설명\n",
        "- 1) 하단의 코드를 통해 전처리 진행\n",
        "    - (1) 이미지와 json 파일을 불러와\n",
        "    - (2) BoundingBox를 기준으로 이미지를 Crop\n",
        "    - (3) 새로운 폴더에 이미지 파일을 저장\n",
        "- 2) 모델링 부분부터 재시작\n",
        "    - (1) 새롭게 저장한 데이터를 train_images와 targets에 저장\n",
        "    - (2) VGG16 모델에 적용\n",
        "    - (3) test 데이터는 폴더 단위로 불러와 예측값의 평균 적용\n",
        "    - (4) 저장 후 제출"
      ]
    },
    {
      "cell_type": "code",
      "metadata": {
        "id": "XCevrgb1z-6k"
      },
      "source": [
        ""
      ],
      "execution_count": null,
      "outputs": []
    },
    {
      "cell_type": "markdown",
      "metadata": {
        "id": "sV797uQrjiys"
      },
      "source": [
        "### Library"
      ]
    },
    {
      "cell_type": "code",
      "metadata": {
        "id": "MPsNG27sjiys"
      },
      "source": [
        "# 데이터 보기\n",
        "import pandas as pd\n",
        "import numpy as np\n",
        "from glob import glob\n",
        "\n",
        "# 이미지데이터 로딩\n",
        "from PIL import Image\n",
        "import cv2\n",
        "from tqdm import tqdm\n",
        "\n",
        "\n",
        "# 파일경로 설정\n",
        "import os\n",
        "import json\n",
        "\n",
        "# Others\n",
        "import warnings\n",
        "warnings.filterwarnings(\"ignore\")\n",
        "warnings.simplefilter('ignore')\n",
        "import matplotlib.pyplot as plt\n"
      ],
      "execution_count": 1,
      "outputs": []
    },
    {
      "cell_type": "code",
      "metadata": {
        "colab": {
          "base_uri": "https://localhost:8080/"
        },
        "id": "SC8Ef0_6j0nx",
        "outputId": "8e462156-250e-47bf-ba0b-d09b9f686d12"
      },
      "source": [
        "from google.colab import drive\n",
        "drive.mount('/content/drive')"
      ],
      "execution_count": 2,
      "outputs": [
        {
          "output_type": "stream",
          "name": "stdout",
          "text": [
            "Mounted at /content/drive\n"
          ]
        }
      ]
    },
    {
      "cell_type": "code",
      "metadata": {
        "id": "C53lfaLJjiyu"
      },
      "source": [
        "data_path = '/content/drive/MyDrive/2021_2/dacon/go_traffic_file'\n",
        "\n",
        "\n",
        "train_path = data_path + '/train'\n",
        "#test_path = data_path + '/test'\n",
        "\n",
        "new_image_directory = data_path + '/new_images'\n",
        "new_train_image_directory = new_image_directory + '/train'\n",
        "#new_test_image_directory = new_image_directory + '/test'\n",
        "\n",
        "action_information = pd.read_csv(data_path + '/action_information.csv')\n",
        "#sample_submission = pd.read_csv(data_path + '/sample_submission.csv')\n",
        "\n",
        "classes = pd.get_dummies(action_information[['Label']], columns = ['Label']).to_numpy()"
      ],
      "execution_count": 3,
      "outputs": []
    },
    {
      "cell_type": "code",
      "metadata": {
        "id": "2jhyubAEjiyv"
      },
      "source": [
        "def make_new_dir(path) : \n",
        "    if os.path.isdir(path) == False:\n",
        "        os.makedirs(path)"
      ],
      "execution_count": 4,
      "outputs": []
    },
    {
      "cell_type": "markdown",
      "metadata": {
        "id": "6tatAHERjiy5"
      },
      "source": [
        "# Restart & Modeling"
      ]
    },
    {
      "cell_type": "code",
      "metadata": {
        "id": "Cn96HXrpOcwg"
      },
      "source": [
        "import tensorflow as tf\n",
        "from tensorflow.keras.preprocessing import image"
      ],
      "execution_count": 5,
      "outputs": []
    },
    {
      "cell_type": "code",
      "metadata": {
        "id": "YzPOthsMjiy5"
      },
      "source": [
        "# Modeling\n",
        "from sklearn.model_selection import train_test_split\n",
        "\n",
        "import tensorflow as tf\n",
        "from tensorflow.keras.applications import VGG16 # 모델은 가벼운 모델을 사용합니다.\n",
        "from tensorflow.keras.layers import *\n",
        "from tensorflow.keras.models import Model\n",
        "from tensorflow.keras.optimizers import Adam"
      ],
      "execution_count": null,
      "outputs": []
    },
    {
      "cell_type": "code",
      "metadata": {
        "id": "Qn8zzQhTjQG2"
      },
      "source": [
        "# GPU 환경 설정\n",
        "import os\n",
        "os.environ[\"CUDA_VISIBLE_DEVICES\"]=\"3\""
      ],
      "execution_count": 6,
      "outputs": []
    },
    {
      "cell_type": "code",
      "metadata": {
        "id": "FSIn54r6j-sr"
      },
      "source": [
        "new_train_image_directories = sorted(glob(new_train_image_directory + '/*'), key = lambda x : int(x.split('/')[-1].split('_')[-1]))"
      ],
      "execution_count": 7,
      "outputs": []
    },
    {
      "cell_type": "code",
      "metadata": {
        "id": "b6SfLE-0kduO"
      },
      "source": [
        "train_answer = []\n",
        "train_image_directories = sorted(glob(train_path + '/*'), key = lambda x : int(x.split('_')[-1]))\n",
        "for train_image_directory in train_image_directories:\n",
        "  json_path = glob(train_image_directory + '/*.json')[0]\n",
        "  js = json.load(open(json_path))\n",
        "  action = js.get('action')\n",
        "  train_answer.append(action)"
      ],
      "execution_count": 8,
      "outputs": []
    },
    {
      "cell_type": "code",
      "metadata": {
        "colab": {
          "base_uri": "https://localhost:8080/"
        },
        "id": "UXPIogUCmKu5",
        "outputId": "11fd1389-5e52-4460-8ebb-12db1b6a20d6"
      },
      "source": [
        "len(new_train_image_directories), len(train_answer)"
      ],
      "execution_count": 9,
      "outputs": [
        {
          "output_type": "execute_result",
          "data": {
            "text/plain": [
              "(142, 142)"
            ]
          },
          "metadata": {},
          "execution_count": 9
        }
      ]
    },
    {
      "cell_type": "code",
      "metadata": {
        "id": "R3yRZ9nQ8vx6",
        "colab": {
          "base_uri": "https://localhost:8080/"
        },
        "outputId": "b3e79a46-0a91-466b-db2d-87178141eb28"
      },
      "source": [
        "# 33번 file이 잘못 annotation 되었다고 함\n",
        "train_answer[33] = 5\n",
        "train_answer[30:35]"
      ],
      "execution_count": 10,
      "outputs": [
        {
          "output_type": "execute_result",
          "data": {
            "text/plain": [
              "[1, 5, 5, 5, 5]"
            ]
          },
          "metadata": {},
          "execution_count": 10
        }
      ]
    },
    {
      "cell_type": "code",
      "metadata": {
        "colab": {
          "base_uri": "https://localhost:8080/"
        },
        "id": "gUJusM0Ujjek",
        "outputId": "98d78167-8a40-4bd0-a1de-874daedbc7ca"
      },
      "source": [
        "new_train_image_directories = new_train_image_directories[41:51]\n",
        "train_answer = train_answer[41:51]\n",
        "new_train_image_directories"
      ],
      "execution_count": null,
      "outputs": [
        {
          "output_type": "execute_result",
          "data": {
            "text/plain": [
              "['/content/drive/MyDrive/2021_2/dacon/go_traffic_file/new_images/train/file_41',\n",
              " '/content/drive/MyDrive/2021_2/dacon/go_traffic_file/new_images/train/file_42',\n",
              " '/content/drive/MyDrive/2021_2/dacon/go_traffic_file/new_images/train/file_43',\n",
              " '/content/drive/MyDrive/2021_2/dacon/go_traffic_file/new_images/train/file_44',\n",
              " '/content/drive/MyDrive/2021_2/dacon/go_traffic_file/new_images/train/file_45',\n",
              " '/content/drive/MyDrive/2021_2/dacon/go_traffic_file/new_images/train/file_46',\n",
              " '/content/drive/MyDrive/2021_2/dacon/go_traffic_file/new_images/train/file_47',\n",
              " '/content/drive/MyDrive/2021_2/dacon/go_traffic_file/new_images/train/file_48',\n",
              " '/content/drive/MyDrive/2021_2/dacon/go_traffic_file/new_images/train/file_49',\n",
              " '/content/drive/MyDrive/2021_2/dacon/go_traffic_file/new_images/train/file_50']"
            ]
          },
          "metadata": {},
          "execution_count": 21
        }
      ]
    },
    {
      "cell_type": "code",
      "metadata": {
        "colab": {
          "base_uri": "https://localhost:8080/"
        },
        "id": "wxcfzTjmjiy6",
        "outputId": "2704f61a-38fd-4cb5-9902-0710924381df"
      },
      "source": [
        "tf.config.set_soft_device_placement(True)\n",
        "images = []\n",
        "targets = []\n",
        "stratify = []\n",
        "for num, (new_train_image_directory, action) in tqdm(enumerate(zip(new_train_image_directories, train_answer)), total = len(new_train_image_directories)) : \n",
        "    image_paths = sorted(glob(new_train_image_directory + '/*'), key = lambda x : int(x.split('/')[-1].replace('.jpg','')))\n",
        "    image_len = len(image_paths)\n",
        "    for image_path in image_paths : \n",
        "        img = image.load_img(image_path, target_size=(224,224,3))\n",
        "        img = image.img_to_array(img)\n",
        "        img = img/255\n",
        "        images.append(img)\n",
        "        targets.append(classes[action])\n",
        "        stratify.append(action)\n",
        "\n",
        "images = np.array(images)\n",
        "targets = np.array(targets)"
      ],
      "execution_count": null,
      "outputs": [
        {
          "output_type": "stream",
          "name": "stderr",
          "text": [
            " 50%|█████     | 5/10 [06:15<06:19, 75.99s/it]"
          ]
        }
      ]
    },
    {
      "cell_type": "code",
      "metadata": {
        "id": "uIe0mAtN-YI2"
      },
      "source": [
        "import pickle"
      ],
      "execution_count": null,
      "outputs": []
    },
    {
      "cell_type": "code",
      "metadata": {
        "id": "ooGPp-ddPmJl"
      },
      "source": [
        "# pickle 쓰기 ###### 주의 : 덮어쓰여짐 ######\n",
        "#with open (\"/content/drive/MyDrive/2021_2/dacon/go_traffic_file/train_img_41_50\", \"wb\") as file:\n",
        "  #pickle.dump(images, file)\n",
        "\n",
        "#with open (\"/content/drive/MyDrive/2021_2/dacon/go_traffic_file/train_tar_41_50\", \"wb\") as file:\n",
        "  #pickle.dump(targets, file)\n",
        "\n",
        "#with open (\"/content/drive/MyDrive/2021_2/dacon/go_traffic_file/train_stratify_41_50\", \"wb\") as file:\n",
        "  #pickle.dump(stratify, file)"
      ],
      "execution_count": null,
      "outputs": []
    },
    {
      "cell_type": "code",
      "metadata": {
        "colab": {
          "base_uri": "https://localhost:8080/"
        },
        "id": "0k7VxJs0RpaE",
        "outputId": "60b0cdd8-0fa9-4c60-9855-e9ab1b212aa5"
      },
      "source": [
        "images.shape"
      ],
      "execution_count": null,
      "outputs": [
        {
          "output_type": "execute_result",
          "data": {
            "text/plain": [
              "(6244, 224, 224, 3)"
            ]
          },
          "metadata": {},
          "execution_count": 25
        }
      ]
    },
    {
      "cell_type": "code",
      "metadata": {
        "id": "V5DzTqaVDfop"
      },
      "source": [
        "# pickle 읽기\n",
        "with open(\"/content/drive/MyDrive/2021_2/dacon/go_traffic_file/array_img_41\", \"rb\") as file:\n",
        "    images = pickle.load(file)\n",
        "with open(\"/content/drive/MyDrive/2021_2/dacon/go_traffic_file/array_tar_41\", \"rb\" ) as file:\n",
        "    targets = pickle.load(file)"
      ],
      "execution_count": null,
      "outputs": []
    },
    {
      "cell_type": "code",
      "metadata": {
        "colab": {
          "base_uri": "https://localhost:8080/"
        },
        "id": "nYX7XrLnjiy7",
        "outputId": "e14ce73a-0e0a-4e4b-8aad-e211347eae4c"
      },
      "source": [
        "print(images.shape)\n",
        "print(targets.shape)"
      ],
      "execution_count": null,
      "outputs": [
        {
          "output_type": "stream",
          "name": "stdout",
          "text": [
            "(6244, 224, 224, 3)\n",
            "(6244, 6)\n"
          ]
        }
      ]
    },
    {
      "cell_type": "code",
      "metadata": {
        "id": "262H4gZLjI4p"
      },
      "source": [
        "temp = [images, images]\n",
        "new = np.concatenate(temp, axis=0)"
      ],
      "execution_count": null,
      "outputs": []
    },
    {
      "cell_type": "code",
      "metadata": {
        "colab": {
          "base_uri": "https://localhost:8080/"
        },
        "id": "lXKERCbvjb2N",
        "outputId": "4ba4a8d4-bd7d-4060-e7ef-96fc3489acc2"
      },
      "source": [
        "new.shape"
      ],
      "execution_count": null,
      "outputs": [
        {
          "output_type": "execute_result",
          "data": {
            "text/plain": [
              "(12488, 224, 224, 3)"
            ]
          },
          "metadata": {},
          "execution_count": 20
        }
      ]
    },
    {
      "cell_type": "code",
      "metadata": {
        "colab": {
          "base_uri": "https://localhost:8080/",
          "height": 257
        },
        "id": "xjAZn3Jkny-8",
        "outputId": "dca5ead2-aabe-48c9-c9b4-03eb6ebdb015"
      },
      "source": [
        "train_idx, valid_idx = train_test_split(range(images.shape[0]), test_size = 0.2, stratify = stratify)\n",
        "\n",
        "X_train = images[train_idx]\n",
        "y_train = targets[train_idx]\n",
        "\n",
        "X_valid = images[valid_idx]\n",
        "y_valid = targets[valid_idx]\n",
        "\n",
        "print('X_train shape : ', X_train.shape)\n",
        "print('X_valid shape : ', X_valid.shape)\n",
        "print('y_train shape : ', y_train.shape)\n",
        "print('y_valid shape : ', y_valid.shape)"
      ],
      "execution_count": null,
      "outputs": [
        {
          "output_type": "error",
          "ename": "NameError",
          "evalue": "ignored",
          "traceback": [
            "\u001b[0;31m---------------------------------------------------------------------------\u001b[0m",
            "\u001b[0;31mNameError\u001b[0m                                 Traceback (most recent call last)",
            "\u001b[0;32m<ipython-input-10-5ea4d6051f6e>\u001b[0m in \u001b[0;36m<module>\u001b[0;34m()\u001b[0m\n\u001b[0;32m----> 1\u001b[0;31m \u001b[0mtrain_idx\u001b[0m\u001b[0;34m,\u001b[0m \u001b[0mvalid_idx\u001b[0m \u001b[0;34m=\u001b[0m \u001b[0mtrain_test_split\u001b[0m\u001b[0;34m(\u001b[0m\u001b[0mrange\u001b[0m\u001b[0;34m(\u001b[0m\u001b[0mimages\u001b[0m\u001b[0;34m.\u001b[0m\u001b[0mshape\u001b[0m\u001b[0;34m[\u001b[0m\u001b[0;36m0\u001b[0m\u001b[0;34m]\u001b[0m\u001b[0;34m)\u001b[0m\u001b[0;34m,\u001b[0m \u001b[0mtest_size\u001b[0m \u001b[0;34m=\u001b[0m \u001b[0;36m0.2\u001b[0m\u001b[0;34m,\u001b[0m \u001b[0mstratify\u001b[0m \u001b[0;34m=\u001b[0m \u001b[0mstratify\u001b[0m\u001b[0;34m)\u001b[0m\u001b[0;34m\u001b[0m\u001b[0;34m\u001b[0m\u001b[0m\n\u001b[0m\u001b[1;32m      2\u001b[0m \u001b[0;34m\u001b[0m\u001b[0m\n\u001b[1;32m      3\u001b[0m \u001b[0mX_train\u001b[0m \u001b[0;34m=\u001b[0m \u001b[0mimages\u001b[0m\u001b[0;34m[\u001b[0m\u001b[0mtrain_idx\u001b[0m\u001b[0;34m]\u001b[0m\u001b[0;34m\u001b[0m\u001b[0;34m\u001b[0m\u001b[0m\n\u001b[1;32m      4\u001b[0m \u001b[0my_train\u001b[0m \u001b[0;34m=\u001b[0m \u001b[0mtargets\u001b[0m\u001b[0;34m[\u001b[0m\u001b[0mtrain_idx\u001b[0m\u001b[0;34m]\u001b[0m\u001b[0;34m\u001b[0m\u001b[0;34m\u001b[0m\u001b[0m\n\u001b[1;32m      5\u001b[0m \u001b[0;34m\u001b[0m\u001b[0m\n",
            "\u001b[0;31mNameError\u001b[0m: name 'stratify' is not defined"
          ]
        }
      ]
    },
    {
      "cell_type": "code",
      "metadata": {
        "id": "nphtQx_pny-9",
        "colab": {
          "base_uri": "https://localhost:8080/"
        },
        "outputId": "20926166-de0f-44e1-d466-6551ba891e55"
      },
      "source": [
        "baseModel = VGG16(input_shape = (224,224,3), weights='imagenet', include_top=False, )\n",
        "baseModel.trainable = False\n",
        "\n",
        "model_in = Input(shape = (224,224,3))\n",
        "base_model = baseModel(model_in)\n",
        "head_model = MaxPooling2D(pool_size=(7, 7))(base_model)\n",
        "head_model = Flatten(name=\"flatten\")(head_model)\n",
        "head_model = Dense(256, activation = 'relu')(head_model)\n",
        "head_model = Dropout(0.2)(head_model)\n",
        "head_model = Dense(32, activation = 'relu')(head_model)\n",
        "head_model = Dropout(0.2)(head_model)\n",
        "head_model = Dense(8, activation = 'relu')(head_model)\n",
        "head_model = Dropout(0.2)(head_model)\n",
        "\n",
        "model_out = Dense(classes.shape[1], activation=\"softmax\")(head_model)\n",
        "\n",
        "model = Model(inputs=model_in, outputs=model_out)\n",
        "\n",
        "model.compile(loss='categorical_crossentropy',optimizer='Adam',metrics=['accuracy'])"
      ],
      "execution_count": null,
      "outputs": [
        {
          "output_type": "stream",
          "name": "stdout",
          "text": [
            "Downloading data from https://storage.googleapis.com/tensorflow/keras-applications/vgg16/vgg16_weights_tf_dim_ordering_tf_kernels_notop.h5\n",
            "58892288/58889256 [==============================] - 1s 0us/step\n",
            "58900480/58889256 [==============================] - 1s 0us/step\n"
          ]
        }
      ]
    },
    {
      "cell_type": "code",
      "metadata": {
        "id": "vx8GXZcbINSF"
      },
      "source": [
        "import tensorflow as tf"
      ],
      "execution_count": null,
      "outputs": []
    },
    {
      "cell_type": "code",
      "metadata": {
        "colab": {
          "base_uri": "https://localhost:8080/",
          "height": 35
        },
        "id": "A67wkpqG9VjM",
        "outputId": "01d7ab50-003c-42ab-c41b-f60dcdf8635c"
      },
      "source": [
        "tf.config.set_soft_device_placement(True)\n",
        "tf.test.gpu_device_name()"
      ],
      "execution_count": null,
      "outputs": [
        {
          "output_type": "execute_result",
          "data": {
            "application/vnd.google.colaboratory.intrinsic+json": {
              "type": "string"
            },
            "text/plain": [
              "''"
            ]
          },
          "metadata": {},
          "execution_count": 44
        }
      ]
    },
    {
      "cell_type": "code",
      "metadata": {
        "colab": {
          "base_uri": "https://localhost:8080/"
        },
        "id": "jMvtrSDDny--",
        "outputId": "5688afa1-c371-4b79-8334-63a90af72818"
      },
      "source": [
        "tf.config.set_soft_device_placement(True)\n",
        "history = model.fit(\n",
        "            X_train, y_train, \n",
        "            validation_data = (X_valid,y_valid),\n",
        "            verbose = 1,\n",
        "            batch_size = 300,\n",
        "            epochs=20,\n",
        "                   )"
      ],
      "execution_count": null,
      "outputs": [
        {
          "output_type": "stream",
          "name": "stdout",
          "text": [
            "Epoch 1/20\n"
          ]
        }
      ]
    },
    {
      "cell_type": "code",
      "metadata": {
        "colab": {
          "base_uri": "https://localhost:8080/",
          "height": 279
        },
        "id": "nN3Cku6Yny--",
        "outputId": "94ca6200-f046-441b-c776-4f20a088965c"
      },
      "source": [
        "import matplotlib.pyplot as plt\n",
        "\n",
        "fig, loss_ax = plt.subplots()\n",
        "acc_ax = loss_ax.twinx()\n",
        "\n",
        "loss_ax.plot(history.history['loss'], 'y', label='train loss')\n",
        "loss_ax.plot(history.history['val_loss'], 'r', label='val loss')\n",
        "loss_ax.set_xlabel('epoch')\n",
        "loss_ax.set_ylabel('loss')\n",
        "loss_ax.legend(loc='upper left')\n",
        "\n",
        "acc_ax.plot(history.history['accuracy'], 'b', label='train acc')\n",
        "acc_ax.plot(history.history['val_accuracy'], 'g', label='val acc')\n",
        "acc_ax.set_ylabel('accuracy')\n",
        "acc_ax.legend(loc='upper left')\n",
        "\n",
        "plt.show()"
      ],
      "execution_count": null,
      "outputs": [
        {
          "output_type": "display_data",
          "data": {
            "image/png": "[encoded data removed]",
            "text/plain": [
              "<Figure size 432x288 with 2 Axes>"
            ]
          },
          "metadata": {
            "needs_background": "light"
          }
        }
      ]
    },
    {
      "cell_type": "code",
      "metadata": {
        "colab": {
          "base_uri": "https://localhost:8080/"
        },
        "id": "zydHExa7ny--",
        "outputId": "2ad418da-a95c-42da-fab8-c9be4de9df80"
      },
      "source": [
        "new_test_image_directory = new_image_directory + '/test'\n",
        "new_test_image_directories = sorted(glob(new_test_image_directory + '/*'), key = lambda x : int(x.split('file_')[-1]))\n",
        "\n",
        "predictions = []\n",
        "for new_test_image_directory in tqdm(new_test_image_directories, total = len(new_test_image_directories)) :\n",
        "    image_paths = sorted(glob(new_test_image_directory + '/*.jpg'), key = lambda x : int(x.split('/')[-1].replace('.jpg','')))\n",
        "    image_len = len(image_paths)\n",
        "    test_images  = []\n",
        "    for image_path in image_paths:\n",
        "        img = image.load_img(image_path, target_size=(224,224,3))\n",
        "        img = image.img_to_array(img)\n",
        "        img = img/255\n",
        "        test_images.append(img)\n",
        "    prediction = np.mean(model.predict(np.array(test_images)), axis = 0)\n",
        "    predictions.append(prediction)"
      ],
      "execution_count": null,
      "outputs": [
        {
          "output_type": "stream",
          "name": "stderr",
          "text": [
            "0it [00:00, ?it/s]\n"
          ]
        }
      ]
    },
    {
      "cell_type": "code",
      "metadata": {
        "colab": {
          "base_uri": "https://localhost:8080/"
        },
        "id": "2MapMYGlLUrE",
        "outputId": "cc3be85f-43cf-489e-8381-c4ee30812ab4"
      },
      "source": [
        "predictions"
      ],
      "execution_count": null,
      "outputs": [
        {
          "output_type": "execute_result",
          "data": {
            "text/plain": [
              "[]"
            ]
          },
          "metadata": {},
          "execution_count": 18
        }
      ]
    },
    {
      "cell_type": "code",
      "metadata": {
        "id": "sKxmoK68n67A"
      },
      "source": [
        ""
      ],
      "execution_count": null,
      "outputs": []
    },
    {
      "cell_type": "code",
      "metadata": {
        "id": "ySBvhG21n6yf"
      },
      "source": [
        ""
      ],
      "execution_count": null,
      "outputs": []
    },
    {
      "cell_type": "code",
      "metadata": {
        "id": "kzhdBXJyn6km"
      },
      "source": [
        ""
      ],
      "execution_count": null,
      "outputs": []
    },
    {
      "cell_type": "code",
      "metadata": {
        "id": "QAhyZeB0n6FN"
      },
      "source": [
        ""
      ],
      "execution_count": null,
      "outputs": []
    },
    {
      "cell_type": "markdown",
      "metadata": {
        "id": "8Cby6Zz0n8qK"
      },
      "source": [
        "혹시 몰라서 copy"
      ]
    },
    {
      "cell_type": "code",
      "metadata": {
        "id": "qQs6yAv9nlPA",
        "outputId": "5039f994-a755-441d-ad95-da08c014f267"
      },
      "source": [
        "print(images.shape)\n",
        "print(targets.shape)"
      ],
      "execution_count": null,
      "outputs": [
        {
          "name": "stdout",
          "output_type": "stream",
          "text": [
            "(22218, 224, 224, 3)\n",
            "(22218, 6)\n"
          ]
        }
      ]
    },
    {
      "cell_type": "code",
      "metadata": {
        "id": "oOCS6bHvjiy7",
        "outputId": "400e3cc3-5d79-4711-ebd3-0327ef7533fb"
      },
      "source": [
        "train_idx, valid_idx = train_test_split(range(images.shape[0]), test_size = 0.2, stratify = stratify)\n",
        "\n",
        "X_train = images[train_idx]\n",
        "y_train = targets[train_idx]\n",
        "\n",
        "X_valid = images[valid_idx]\n",
        "y_valid = targets[valid_idx]\n",
        "\n",
        "print('X_train shape : ', X_train.shape)\n",
        "print('X_valid shape : ', X_valid.shape)\n",
        "print('y_train shape : ', y_train.shape)\n",
        "print('y_valid shape : ', y_valid.shape)"
      ],
      "execution_count": null,
      "outputs": [
        {
          "name": "stdout",
          "output_type": "stream",
          "text": [
            "X_train shape :  (17774, 224, 224, 3)\n",
            "X_valid shape :  (4444, 224, 224, 3)\n",
            "y_train shape :  (17774, 6)\n",
            "y_valid shape :  (4444, 6)\n"
          ]
        }
      ]
    },
    {
      "cell_type": "code",
      "metadata": {
        "id": "EE9EQrnMjiy7"
      },
      "source": [
        "baseModel = VGG16(input_shape = (224,224,3), weights='imagenet', include_top=False, )\n",
        "baseModel.trainable = False\n",
        "\n",
        "model_in = Input(shape = (224,224,3))\n",
        "base_model = baseModel(model_in)\n",
        "head_model = MaxPooling2D(pool_size=(7, 7))(base_model)\n",
        "head_model = Flatten(name=\"flatten\")(head_model)\n",
        "head_model = Dense(256, activation = 'relu')(head_model)\n",
        "head_model = Dropout(0.2)(head_model)\n",
        "head_model = Dense(32, activation = 'relu')(head_model)\n",
        "head_model = Dropout(0.2)(head_model)\n",
        "head_model = Dense(8, activation = 'relu')(head_model)\n",
        "head_model = Dropout(0.2)(head_model)\n",
        "\n",
        "model_out = Dense(classes.shape[1], activation=\"softmax\")(head_model)\n",
        "\n",
        "model = Model(inputs=model_in, outputs=model_out)\n",
        "\n",
        "model.compile(loss='categorical_crossentropy',optimizer='Adam',metrics=['accuracy'])"
      ],
      "execution_count": null,
      "outputs": []
    },
    {
      "cell_type": "code",
      "metadata": {
        "id": "uv4eAYD6jiy7",
        "outputId": "2c5cc073-a26d-4b87-dd0a-8f4d53b4a031"
      },
      "source": [
        "history = model.fit(\n",
        "            X_train, y_train, \n",
        "            validation_data = (X_valid,y_valid),\n",
        "            verbose = 1,\n",
        "            batch_size = 512,\n",
        "            epochs=20,\n",
        "                   )"
      ],
      "execution_count": null,
      "outputs": [
        {
          "name": "stdout",
          "output_type": "stream",
          "text": [
            "Epoch 1/20\n",
            "35/35 [==============================] - 21s 585ms/step - loss: 1.8091 - accuracy: 0.1786 - val_loss: 1.7915 - val_accuracy: 0.1791\n",
            "Epoch 2/20\n",
            "35/35 [==============================] - 20s 572ms/step - loss: 1.7842 - accuracy: 0.1962 - val_loss: 1.7554 - val_accuracy: 0.2565\n",
            "Epoch 3/20\n",
            "35/35 [==============================] - 20s 577ms/step - loss: 1.7489 - accuracy: 0.2432 - val_loss: 1.6933 - val_accuracy: 0.3510\n",
            "Epoch 4/20\n",
            "35/35 [==============================] - 20s 573ms/step - loss: 1.6501 - accuracy: 0.3006 - val_loss: 1.5116 - val_accuracy: 0.4370\n",
            "Epoch 5/20\n",
            "35/35 [==============================] - 20s 573ms/step - loss: 1.4607 - accuracy: 0.4221 - val_loss: 1.1799 - val_accuracy: 0.6503\n",
            "Epoch 6/20\n",
            "35/35 [==============================] - 20s 573ms/step - loss: 1.2116 - accuracy: 0.5340 - val_loss: 0.8793 - val_accuracy: 0.7538\n",
            "Epoch 7/20\n",
            "35/35 [==============================] - 20s 575ms/step - loss: 1.0142 - accuracy: 0.6247 - val_loss: 0.6756 - val_accuracy: 0.8141\n",
            "Epoch 8/20\n",
            "35/35 [==============================] - 20s 575ms/step - loss: 0.8833 - accuracy: 0.6820 - val_loss: 0.5851 - val_accuracy: 0.8391\n",
            "Epoch 9/20\n",
            "35/35 [==============================] - 20s 576ms/step - loss: 0.7425 - accuracy: 0.7358 - val_loss: 0.4380 - val_accuracy: 0.8857\n",
            "Epoch 10/20\n",
            "35/35 [==============================] - 20s 575ms/step - loss: 0.6565 - accuracy: 0.7659 - val_loss: 0.3701 - val_accuracy: 0.8978\n",
            "Epoch 11/20\n",
            "35/35 [==============================] - 20s 579ms/step - loss: 0.5979 - accuracy: 0.7822 - val_loss: 0.2831 - val_accuracy: 0.9341\n",
            "Epoch 12/20\n",
            "35/35 [==============================] - 20s 575ms/step - loss: 0.5230 - accuracy: 0.8099 - val_loss: 0.2367 - val_accuracy: 0.9435\n",
            "Epoch 13/20\n",
            "35/35 [==============================] - 20s 575ms/step - loss: 0.4817 - accuracy: 0.8242 - val_loss: 0.2099 - val_accuracy: 0.9523\n",
            "Epoch 14/20\n",
            "35/35 [==============================] - 20s 574ms/step - loss: 0.4531 - accuracy: 0.8370 - val_loss: 0.1848 - val_accuracy: 0.9572\n",
            "Epoch 15/20\n",
            "35/35 [==============================] - 20s 574ms/step - loss: 0.4248 - accuracy: 0.8433 - val_loss: 0.1695 - val_accuracy: 0.9620\n",
            "Epoch 16/20\n",
            "35/35 [==============================] - 20s 576ms/step - loss: 0.3967 - accuracy: 0.8543 - val_loss: 0.1493 - val_accuracy: 0.9687\n",
            "Epoch 17/20\n",
            "35/35 [==============================] - 20s 577ms/step - loss: 0.3759 - accuracy: 0.8631 - val_loss: 0.1339 - val_accuracy: 0.9734\n",
            "Epoch 18/20\n",
            "35/35 [==============================] - 20s 575ms/step - loss: 0.3650 - accuracy: 0.8673 - val_loss: 0.1284 - val_accuracy: 0.9689\n",
            "Epoch 19/20\n",
            "35/35 [==============================] - 20s 575ms/step - loss: 0.3438 - accuracy: 0.8743 - val_loss: 0.1122 - val_accuracy: 0.9750\n",
            "Epoch 20/20\n",
            "35/35 [==============================] - 20s 575ms/step - loss: 0.3270 - accuracy: 0.8818 - val_loss: 0.1020 - val_accuracy: 0.9761\n"
          ]
        }
      ]
    },
    {
      "cell_type": "code",
      "metadata": {
        "id": "95HG43F8jiy8",
        "outputId": "0f56d98c-bfa5-4b85-c935-2a0fee4c63b8"
      },
      "source": [
        "import matplotlib.pyplot as plt\n",
        "\n",
        "fig, loss_ax = plt.subplots()\n",
        "acc_ax = loss_ax.twinx()\n",
        "\n",
        "loss_ax.plot(history.history['loss'], 'y', label='train loss')\n",
        "loss_ax.plot(history.history['val_loss'], 'r', label='val loss')\n",
        "loss_ax.set_xlabel('epoch')\n",
        "loss_ax.set_ylabel('loss')\n",
        "loss_ax.legend(loc='upper left')\n",
        "\n",
        "acc_ax.plot(history.history['accuracy'], 'b', label='train acc')\n",
        "acc_ax.plot(history.history['val_accuracy'], 'g', label='val acc')\n",
        "acc_ax.set_ylabel('accuracy')\n",
        "acc_ax.legend(loc='upper left')\n",
        "\n",
        "plt.show()"
      ],
      "execution_count": null,
      "outputs": [
        {
          "data": {
            "image/png": "[encoded data removed]",
            "text/plain": [
              "<Figure size 432x288 with 2 Axes>"
            ]
          },
          "metadata": {
            "needs_background": "light"
          },
          "output_type": "display_data"
        }
      ]
    },
    {
      "cell_type": "code",
      "metadata": {
        "id": "nz4lcO3Ijiy8",
        "outputId": "dff90789-9151-47a0-ea90-2f3caee46d6d"
      },
      "source": [
        "new_test_image_directory = new_image_directory + '/test'\n",
        "new_test_image_directories = sorted(glob(new_test_image_directory + '/*'), key = lambda x : int(x.split('file_')[-1]))\n",
        "\n",
        "predictions = []\n",
        "for new_test_image_directory in tqdm(new_test_image_directories, total = len(new_test_image_directories)) :\n",
        "    image_paths = sorted(glob(new_test_image_directory + '/*.jpg'), key = lambda x : int(x.split('/')[-1].replace('.jpg','')))\n",
        "    image_len = len(image_paths)\n",
        "    test_images  = []\n",
        "    for image_path in image_paths:\n",
        "        img = image.load_img(image_path, target_size=(224,224,3))\n",
        "        img = image.img_to_array(img)\n",
        "        img = img/255\n",
        "        test_images.append(img)\n",
        "    prediction = np.mean(model.predict(np.array(test_images)), axis = 0)\n",
        "    predictions.append(prediction)"
      ],
      "execution_count": null,
      "outputs": [
        {
          "name": "stderr",
          "output_type": "stream",
          "text": [
            "100%|██████████| 45/45 [00:15<00:00,  2.99it/s]\n"
          ]
        }
      ]
    },
    {
      "cell_type": "code",
      "metadata": {
        "id": "3Cus5v33jiy8",
        "outputId": "c7986ad2-4757-4f23-a19f-88ad3bc557ad"
      },
      "source": [
        "sample_submission.iloc[:,1:] = predictions\n",
        "display(sample_submission.head())\n",
        "sample_submission.to_csv('./BASELINE.csv', index=False)"
      ],
      "execution_count": null,
      "outputs": [
        {
          "data": {
            "text/html": [
              "<div>\n",
              "<style scoped>\n",
              "    .dataframe tbody tr th:only-of-type {\n",
              "        vertical-align: middle;\n",
              "    }\n",
              "\n",
              "    .dataframe tbody tr th {\n",
              "        vertical-align: top;\n",
              "    }\n",
              "\n",
              "    .dataframe thead th {\n",
              "        text-align: right;\n",
              "    }\n",
              "</style>\n",
              "<table border=\"1\" class=\"dataframe\">\n",
              "  <thead>\n",
              "    <tr style=\"text-align: right;\">\n",
              "      <th></th>\n",
              "      <th>file_path</th>\n",
              "      <th>Label_0</th>\n",
              "      <th>Label_1</th>\n",
              "      <th>Label_2</th>\n",
              "      <th>Label_3</th>\n",
              "      <th>Label_4</th>\n",
              "      <th>Label_5</th>\n",
              "    </tr>\n",
              "  </thead>\n",
              "  <tbody>\n",
              "    <tr>\n",
              "      <th>0</th>\n",
              "      <td>./test\\file_142</td>\n",
              "      <td>0.048860</td>\n",
              "      <td>0.029996</td>\n",
              "      <td>0.253161</td>\n",
              "      <td>0.269593</td>\n",
              "      <td>0.033256</td>\n",
              "      <td>0.365135</td>\n",
              "    </tr>\n",
              "    <tr>\n",
              "      <th>1</th>\n",
              "      <td>./test\\file_143</td>\n",
              "      <td>0.004876</td>\n",
              "      <td>0.003066</td>\n",
              "      <td>0.098355</td>\n",
              "      <td>0.130929</td>\n",
              "      <td>0.034184</td>\n",
              "      <td>0.728591</td>\n",
              "    </tr>\n",
              "    <tr>\n",
              "      <th>2</th>\n",
              "      <td>./test\\file_144</td>\n",
              "      <td>0.036387</td>\n",
              "      <td>0.005520</td>\n",
              "      <td>0.043648</td>\n",
              "      <td>0.833246</td>\n",
              "      <td>0.010118</td>\n",
              "      <td>0.071081</td>\n",
              "    </tr>\n",
              "    <tr>\n",
              "      <th>3</th>\n",
              "      <td>./test\\file_145</td>\n",
              "      <td>0.012213</td>\n",
              "      <td>0.015196</td>\n",
              "      <td>0.609207</td>\n",
              "      <td>0.054274</td>\n",
              "      <td>0.015465</td>\n",
              "      <td>0.293646</td>\n",
              "    </tr>\n",
              "    <tr>\n",
              "      <th>4</th>\n",
              "      <td>./test\\file_146</td>\n",
              "      <td>0.861626</td>\n",
              "      <td>0.011323</td>\n",
              "      <td>0.014597</td>\n",
              "      <td>0.024359</td>\n",
              "      <td>0.059995</td>\n",
              "      <td>0.028100</td>\n",
              "    </tr>\n",
              "  </tbody>\n",
              "</table>\n",
              "</div>"
            ],
            "text/plain": [
              "         file_path   Label_0   Label_1   Label_2   Label_3   Label_4   Label_5\n",
              "0  ./test\\file_142  0.048860  0.029996  0.253161  0.269593  0.033256  0.365135\n",
              "1  ./test\\file_143  0.004876  0.003066  0.098355  0.130929  0.034184  0.728591\n",
              "2  ./test\\file_144  0.036387  0.005520  0.043648  0.833246  0.010118  0.071081\n",
              "3  ./test\\file_145  0.012213  0.015196  0.609207  0.054274  0.015465  0.293646\n",
              "4  ./test\\file_146  0.861626  0.011323  0.014597  0.024359  0.059995  0.028100"
            ]
          },
          "metadata": {},
          "output_type": "display_data"
        }
      ]
    },
    {
      "cell_type": "code",
      "metadata": {
        "id": "XhwA2sopvSZ7"
      },
      "source": [
        ""
      ],
      "execution_count": null,
      "outputs": []
    }
  ]
}