{
  "nbformat": 4,
  "nbformat_minor": 0,
  "metadata": {
    "kernelspec": {
      "display_name": "Python 3",
      "language": "python",
      "name": "python3"
    },
    "language_info": {
      "codemirror_mode": {
        "name": "ipython",
        "version": 3
      },
      "file_extension": ".py",
      "mimetype": "text/x-python",
      "name": "python",
      "nbconvert_exporter": "python",
      "pygments_lexer": "ipython3",
      "version": "3.8.3"
    },
    "colab": {
      "name": "rgb_to_gray.ipynb",
      "provenance": [],
      "collapsed_sections": [],
      "machine_shape": "hm",
      "include_colab_link": true
    }
  },
  "cells": [
    {
      "cell_type": "markdown",
      "metadata": {
        "id": "view-in-github",
        "colab_type": "text"
      },
      "source": [
        "<a href=\"https://colab.research.google.com/github/HyoJuJang/traffic/blob/master/rgb_to_gray.ipynb\" target=\"_parent\"><img src=\"https://colab.research.google.com/assets/colab-badge.svg\" alt=\"Open In Colab\"/></a>"
      ]
    },
    {
      "cell_type": "markdown",
      "metadata": {
        "id": "sV797uQrjiys"
      },
      "source": [
        "### Library"
      ]
    },
    {
      "cell_type": "code",
      "metadata": {
        "id": "MPsNG27sjiys"
      },
      "source": [
        "import numpy as np"
      ],
      "execution_count": null,
      "outputs": []
    },
    {
      "cell_type": "code",
      "metadata": {
        "colab": {
          "base_uri": "https://localhost:8080/"
        },
        "id": "SC8Ef0_6j0nx",
        "outputId": "79c36f26-f184-440f-b69a-74823742fa76"
      },
      "source": [
        "from google.colab import drive\n",
        "drive.mount('/content/drive')"
      ],
      "execution_count": null,
      "outputs": [
        {
          "output_type": "stream",
          "name": "stdout",
          "text": [
            "Mounted at /content/drive\n"
          ]
        }
      ]
    },
    {
      "cell_type": "markdown",
      "metadata": {
        "id": "fSomk3Ig9Clk"
      },
      "source": [
        "# grb to gray"
      ]
    },
    {
      "cell_type": "code",
      "metadata": {
        "id": "7J3m2z4gPKBm"
      },
      "source": [
        "## train, valid 데이터 불러오기 : test_size = 0.2\n",
        "\n",
        "#train_idx = np.load('/content/drive/MyDrive/2021_2/dacon/go_traffic_file/train_array/train_idx.npy')\n",
        "#valid_idx = np.load('/content/drive/MyDrive/2021_2/dacon/go_traffic_file/train_array/valid_idx,npy')\n",
        "X_train = np.load('/content/drive/MyDrive/2021_2/dacon/go_traffic_file/train_array/train_valid/train_X.npy')\n",
        "y_train = np.load('/content/drive/MyDrive/2021_2/dacon/go_traffic_file/train_array/train_valid/train_y.npy')\n",
        "X_valid = np.load('/content/drive/MyDrive/2021_2/dacon/go_traffic_file/train_array/train_valid/valid_X.npy')\n",
        "y_valid = np.load('/content/drive/MyDrive/2021_2/dacon/go_traffic_file/train_array/train_valid/valid_y.npy')"
      ],
      "execution_count": null,
      "outputs": []
    },
    {
      "cell_type": "code",
      "metadata": {
        "colab": {
          "base_uri": "https://localhost:8080/"
        },
        "id": "xjAZn3Jkny-8",
        "outputId": "0fcb7541-6feb-4fc0-9325-29b269dee4c3"
      },
      "source": [
        "print('X_train shape : ', X_train.shape)\n",
        "print('X_valid shape : ', X_valid.shape)\n",
        "print('y_train shape : ', y_train.shape)\n",
        "print('y_valid shape : ', y_valid.shape)"
      ],
      "execution_count": null,
      "outputs": [
        {
          "output_type": "stream",
          "name": "stdout",
          "text": [
            "X_train shape :  (17774, 224, 224, 3)\n",
            "X_valid shape :  (4444, 224, 224, 3)\n",
            "y_train shape :  (17774, 6)\n",
            "y_valid shape :  (4444, 6)\n"
          ]
        }
      ]
    },
    {
      "cell_type": "markdown",
      "metadata": {
        "id": "8PwQZkkrfWTx"
      },
      "source": [
        "example"
      ]
    },
    {
      "cell_type": "code",
      "metadata": {
        "id": "6SEG79Dmax0A"
      },
      "source": [
        "im1 = X_train[0]"
      ],
      "execution_count": null,
      "outputs": []
    },
    {
      "cell_type": "code",
      "metadata": {
        "id": "_0bH7LVjatou"
      },
      "source": [
        "def rgb2gray(rgb):\n",
        "    return np.dot(rgb[...,:3], [0.2989, 0.5870, 0.1140])\n",
        "\n",
        "gray = rgb2gray(im1)    \n",
        "#plt.imshow(gray, cmap=plt.get_cmap('gray'), vmin=0, vmax=1)\n",
        "#plt.show()"
      ],
      "execution_count": null,
      "outputs": []
    },
    {
      "cell_type": "code",
      "metadata": {
        "colab": {
          "base_uri": "https://localhost:8080/"
        },
        "id": "9NlYk4JjbFDo",
        "outputId": "c535fb9b-296a-41a6-d84d-2081f5d09aae"
      },
      "source": [
        "gray.shape"
      ],
      "execution_count": null,
      "outputs": [
        {
          "output_type": "execute_result",
          "data": {
            "text/plain": [
              "(224, 224)"
            ]
          },
          "metadata": {},
          "execution_count": 11
        }
      ]
    },
    {
      "cell_type": "code",
      "metadata": {
        "id": "bJLaPAsXbJSJ"
      },
      "source": [
        "import matplotlib.pyplot as plt"
      ],
      "execution_count": null,
      "outputs": []
    },
    {
      "cell_type": "code",
      "metadata": {
        "id": "qdRlw1MXbfI_"
      },
      "source": [
        "plt.imshow(gray, cmap=plt.get_cmap('gray'), vmin=0, vmax=1)\n",
        "plt.show()"
      ],
      "execution_count": null,
      "outputs": []
    },
    {
      "cell_type": "markdown",
      "metadata": {
        "id": "cO3sf9-JfgeV"
      },
      "source": [
        "convert train, valid data"
      ]
    },
    {
      "cell_type": "code",
      "metadata": {
        "id": "A3K1KYsiOYfw"
      },
      "source": [
        "def rgb2gray(rgb):\n",
        "    return np.dot(rgb[...,:3], [0.2989, 0.5870, 0.1140])"
      ],
      "execution_count": null,
      "outputs": []
    },
    {
      "cell_type": "code",
      "metadata": {
        "id": "XhwA2sopvSZ7"
      },
      "source": [
        "X_train = rgb2gray(X_train)"
      ],
      "execution_count": null,
      "outputs": []
    },
    {
      "cell_type": "code",
      "metadata": {
        "id": "eZKeBMt5fw4v"
      },
      "source": [
        "np.save('/content/drive/MyDrive/2021_2/dacon/go_traffic_file/train_array/train_valid/train_X_gray.npy', X_train)"
      ],
      "execution_count": null,
      "outputs": []
    },
    {
      "cell_type": "code",
      "metadata": {
        "id": "rJwJsoBaciGf"
      },
      "source": [
        "X_valid = rgb2gray(X_Valid)"
      ],
      "execution_count": null,
      "outputs": []
    },
    {
      "cell_type": "code",
      "metadata": {
        "id": "GlgK-Rwyf477"
      },
      "source": [
        "np.save('/content/drive/MyDrive/2021_2/dacon/go_traffic_file/train_array/train_valid/valid_X_gray.npy', X_valid)"
      ],
      "execution_count": null,
      "outputs": []
    },
    {
      "cell_type": "code",
      "metadata": {
        "id": "ZYTk1zmROXDv"
      },
      "source": [
        "# X_train, X_valid가 float16이라 np.dot 지원 안됨 -> 직접 연산\n",
        "def rgb2gray2(im1):\n",
        "    rgb = [0.2989, 0.5870, 0.1140]\n",
        "    gry = im1[...,0] * rgb[0] + im1[...,1] * rgb[1] + im1[...,2] * rgb[2]\n",
        "    return gry\n",
        "\n",
        "X_train = rgb2gray2(X_train)\n",
        "X_valid = rgb2gray2(X_Valid)\n",
        "\n",
        "np.save('/content/drive/MyDrive/2021_2/dacon/go_traffic_file/train_array/train_valid/train_X_gray.npy', X_train)\n",
        "np.save('/content/drive/MyDrive/2021_2/dacon/go_traffic_file/train_array/train_valid/valid_X_gray.npy', X_valid)"
      ],
      "execution_count": null,
      "outputs": []
    },
    {
      "cell_type": "code",
      "metadata": {
        "id": "tASI2M7bOW04"
      },
      "source": [
        ""
      ],
      "execution_count": null,
      "outputs": []
    }
  ]
}