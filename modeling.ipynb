{
  "nbformat": 4,
  "nbformat_minor": 0,
  "metadata": {
    "kernelspec": {
      "display_name": "Python 3",
      "language": "python",
      "name": "python3"
    },
    "language_info": {
      "codemirror_mode": {
        "name": "ipython",
        "version": 3
      },
      "file_extension": ".py",
      "mimetype": "text/x-python",
      "name": "python",
      "nbconvert_exporter": "python",
      "pygments_lexer": "ipython3",
      "version": "3.8.3"
    },
    "colab": {
      "name": "modeling.ipynb",
      "provenance": [],
      "collapsed_sections": [],
      "machine_shape": "hm",
      "include_colab_link": true
    }
  },
  "cells": [
    {
      "cell_type": "markdown",
      "metadata": {
        "id": "view-in-github",
        "colab_type": "text"
      },
      "source": [
        "<a href=\"https://colab.research.google.com/github/HyoJuJang/traffic/blob/master/modeling.ipynb\" target=\"_parent\"><img src=\"https://colab.research.google.com/assets/colab-badge.svg\" alt=\"Open In Colab\"/></a>"
      ]
    },
    {
      "cell_type": "markdown",
      "metadata": {
        "id": "HAUzHk0sjiyo"
      },
      "source": [
        "# BASELINE"
      ]
    },
    {
      "cell_type": "code",
      "metadata": {
        "id": "XCevrgb1z-6k"
      },
      "source": [
        ""
      ],
      "execution_count": null,
      "outputs": []
    },
    {
      "cell_type": "markdown",
      "metadata": {
        "id": "sV797uQrjiys"
      },
      "source": [
        "### Library"
      ]
    },
    {
      "cell_type": "code",
      "metadata": {
        "id": "MPsNG27sjiys"
      },
      "source": [
        "import numpy as np\n",
        "import pandas as pd\n",
        "import pickle\n",
        "from glob import glob"
      ],
      "execution_count": null,
      "outputs": []
    },
    {
      "cell_type": "code",
      "metadata": {
        "id": "_XI8PvKCSACy"
      },
      "source": [
        "# for modeling\n",
        "import tensorflow as tf\n",
        "from tensorflow.keras.applications import VGG16 # 가벼운 모델\n",
        "from tensorflow.keras.layers import *\n",
        "from tensorflow.keras.models import Model\n",
        "from tensorflow.keras.optimizers import Adam"
      ],
      "execution_count": null,
      "outputs": []
    },
    {
      "cell_type": "code",
      "metadata": {
        "colab": {
          "base_uri": "https://localhost:8080/"
        },
        "id": "SC8Ef0_6j0nx",
        "outputId": "7f6f59e3-ccee-4b80-8815-98c4334f7ae0"
      },
      "source": [
        "from google.colab import drive\n",
        "drive.mount('/content/drive')"
      ],
      "execution_count": null,
      "outputs": [
        {
          "output_type": "stream",
          "name": "stdout",
          "text": [
            "Mounted at /content/drive\n"
          ]
        }
      ]
    },
    {
      "cell_type": "code",
      "metadata": {
        "id": "C53lfaLJjiyu"
      },
      "source": [
        "data_path = '/content/drive/MyDrive/2021_2/dacon/go_traffic_file'\n",
        "\n",
        "action_information = pd.read_csv(data_path + '/action_information.csv')\n",
        "classes = pd.get_dummies(action_information[['Label']], columns = ['Label']).to_numpy()"
      ],
      "execution_count": null,
      "outputs": []
    },
    {
      "cell_type": "markdown",
      "metadata": {
        "id": "fSomk3Ig9Clk"
      },
      "source": [
        "# Modeling"
      ]
    },
    {
      "cell_type": "code",
      "metadata": {
        "id": "7J3m2z4gPKBm"
      },
      "source": [
        "## train, valid 데이터 불러오기 : test_size = 0.2\n",
        "\n",
        "path = data_path+'/train_array/train_valid'\n",
        "\n",
        "#train_idx = np.load(glob(path+'train_idx.npy'))\n",
        "#valid_idx = np.load(glob(path+'valid_idx.npy'))\n",
        "X_train = np.load(path+'/train_X.npy')\n",
        "y_train = np.load(path+'/train_y.npy')\n",
        "X_valid = np.load(path+'/valid_X.npy')\n",
        "y_valid = np.load(path+'/valid_y.npy')"
      ],
      "execution_count": null,
      "outputs": []
    },
    {
      "cell_type": "code",
      "metadata": {
        "colab": {
          "base_uri": "https://localhost:8080/"
        },
        "id": "xjAZn3Jkny-8",
        "outputId": "1a79ba7c-55d4-40ee-b300-09e221bacfd3"
      },
      "source": [
        "print('X_train shape : ', X_train.shape)\n",
        "print('X_valid shape : ', X_valid.shape)\n",
        "print('y_train shape : ', y_train.shape)\n",
        "print('y_valid shape : ', y_valid.shape)"
      ],
      "execution_count": null,
      "outputs": [
        {
          "output_type": "stream",
          "name": "stdout",
          "text": [
            "X_train shape :  (17774, 224, 224, 3)\n",
            "X_valid shape :  (4444, 224, 224, 3)\n",
            "y_train shape :  (17774, 6)\n",
            "y_valid shape :  (4444, 6)\n"
          ]
        }
      ]
    },
    {
      "cell_type": "code",
      "metadata": {
        "colab": {
          "base_uri": "https://localhost:8080/"
        },
        "id": "9BJ8L4Bo7LVX",
        "outputId": "b6d20da4-3aa7-49aa-d288-9b7f5d4d60c4"
      },
      "source": [
        "len(y_train)"
      ],
      "execution_count": null,
      "outputs": [
        {
          "output_type": "execute_result",
          "data": {
            "text/plain": [
              "17774"
            ]
          },
          "metadata": {},
          "execution_count": 15
        }
      ]
    },
    {
      "cell_type": "code",
      "metadata": {
        "colab": {
          "base_uri": "https://localhost:8080/"
        },
        "id": "PClFcIkmrcVR",
        "outputId": "a7ec6778-3e5a-49b5-821f-de29f43d32a5"
      },
      "source": [
        "X_train[0][0][0]"
      ],
      "execution_count": null,
      "outputs": [
        {
          "output_type": "execute_result",
          "data": {
            "text/plain": [
              "array([0.3765, 0.4707, 0.1726], dtype=float16)"
            ]
          },
          "metadata": {},
          "execution_count": 11
        }
      ]
    },
    {
      "cell_type": "code",
      "metadata": {
        "id": "EdmTLqFyrP_v"
      },
      "source": [
        "trainAug = ImageDataGenerator(\n",
        "    rotation_range = 30,\n",
        "    zoom_range = 0.15,\n",
        "    width_shift_range = 0.2,\n",
        "    height_shift_range = 0.2,\n",
        "    shear_range = 0.15,\n",
        "    horizontal_flip = False,\n",
        "    fill_mode='nearest'\n",
        ")\n",
        "validAug = ImageDataGenerator()"
      ],
      "execution_count": null,
      "outputs": []
    },
    {
      "cell_type": "code",
      "metadata": {
        "id": "zcGJO5mbt3Bj"
      },
      "source": [
        ""
      ],
      "execution_count": null,
      "outputs": []
    },
    {
      "cell_type": "code",
      "metadata": {
        "id": "zKc80Hu0vC7m"
      },
      "source": [
        "from tensorflow.keras.preprocessing.image import ImageDataGenerator\n",
        "from tensorflow.keras.applications import ResNet50\n",
        "from tensorflow.keras.optimizers import SGD"
      ],
      "execution_count": null,
      "outputs": []
    },
    {
      "cell_type": "code",
      "metadata": {
        "colab": {
          "base_uri": "https://localhost:8080/"
        },
        "id": "C_vc9_zNv8zH",
        "outputId": "1dcc111e-1d00-4701-ddfe-68c7a6a1ad4f"
      },
      "source": [
        "classes[1]"
      ],
      "execution_count": null,
      "outputs": [
        {
          "output_type": "execute_result",
          "data": {
            "text/plain": [
              "array([0, 1, 0, 0, 0, 0], dtype=uint8)"
            ]
          },
          "metadata": {},
          "execution_count": 32
        }
      ]
    },
    {
      "cell_type": "code",
      "metadata": {
        "id": "0V_TREQ-zXox"
      },
      "source": [
        ""
      ],
      "execution_count": null,
      "outputs": []
    },
    {
      "cell_type": "code",
      "metadata": {
        "colab": {
          "base_uri": "https://localhost:8080/"
        },
        "id": "cIwxixuDtkS8",
        "outputId": "61dfee6d-e1b6-422d-bba7-e49a779f668e"
      },
      "source": [
        "baseModel = ResNet50(weights='imagenet', include_top=False, input_shape=(224,224,3))\n",
        "\n",
        "headModel = baseModel.output\n",
        "headModel = AveragePooling2D(pool_size=(7,7))(headModel)\n",
        "headModel = Flatten(name='flatten')(headModel)\n",
        "headModel = Dense(512, activation='relu')(headModel)\n",
        "headModel = Dropout(0.5)(headModel)\n",
        "headModel = Dense(len(classes[1]), activation=\"softmax\")(headModel)\n",
        "\n",
        "model = Model(inputs=baseModel.input, outputs=headModel)\n",
        "\n",
        "for layer in baseModel.layers:\n",
        "  layer.trainable = False\n",
        "\n",
        "print(\"[INFO] compiling modeling...\")\n",
        "opt = SGD(lr=1e-4, momentum=0.9)\n",
        "model.compile(loss='categorical_crossentropy', optimizer=opt, metrics=['accuracy'])"
      ],
      "execution_count": null,
      "outputs": [
        {
          "output_type": "stream",
          "name": "stdout",
          "text": [
            "[INFO] compiling modeling...\n"
          ]
        },
        {
          "output_type": "stream",
          "name": "stderr",
          "text": [
            "/usr/local/lib/python3.7/dist-packages/keras/optimizer_v2/optimizer_v2.py:356: UserWarning: The `lr` argument is deprecated, use `learning_rate` instead.\n",
            "  \"The `lr` argument is deprecated, use `learning_rate` instead.\")\n"
          ]
        }
      ]
    },
    {
      "cell_type": "code",
      "metadata": {
        "id": "HyqgQMAXzK3N"
      },
      "source": [
        "tf.config.set_soft_device_placement(True)\n",
        "history_m2 = model.fit(\n",
        "            X_train, y_train, \n",
        "            validation_data = (X_valid,y_valid),\n",
        "            verbose = 1,\n",
        "            batch_size = 10,\n",
        "            epochs=5,\n",
        "                   )"
      ],
      "execution_count": null,
      "outputs": []
    },
    {
      "cell_type": "code",
      "metadata": {
        "id": "dcwj83bizh5r"
      },
      "source": [
        ""
      ],
      "execution_count": null,
      "outputs": []
    },
    {
      "cell_type": "code",
      "metadata": {
        "id": "nphtQx_pny-9"
      },
      "source": [
        "baseModel = VGG16(input_shape = (224,224,3), weights='imagenet', include_top=False, )\n",
        "baseModel.trainable = False\n",
        "\n",
        "model_in = Input(shape = (224,224,3))\n",
        "base_model = baseModel(model_in)\n",
        "head_model = MaxPooling2D(pool_size=(7, 7))(base_model)\n",
        "head_model = Flatten(name=\"flatten\")(head_model)\n",
        "head_model = Dense(256, activation = 'relu')(head_model)\n",
        "head_model = Dropout(0.2)(head_model)\n",
        "head_model = Dense(32, activation = 'relu')(head_model)\n",
        "head_model = Dropout(0.2)(head_model)\n",
        "head_model = Dense(8, activation = 'relu')(head_model)\n",
        "head_model = Dropout(0.2)(head_model)\n",
        "\n",
        "model_out = Dense(classes.shape[1], activation=\"softmax\")(head_model)\n",
        "\n",
        "model = Model(inputs=model_in, outputs=model_out)\n",
        "\n",
        "model.compile(loss='categorical_crossentropy',optimizer='Adam',metrics=['accuracy'])"
      ],
      "execution_count": null,
      "outputs": []
    },
    {
      "cell_type": "code",
      "metadata": {
        "colab": {
          "base_uri": "https://localhost:8080/",
          "height": 35
        },
        "id": "A67wkpqG9VjM",
        "outputId": "01d7ab50-003c-42ab-c41b-f60dcdf8635c"
      },
      "source": [
        "tf.config.set_soft_device_placement(True)\n",
        "tf.test.gpu_device_name()"
      ],
      "execution_count": null,
      "outputs": [
        {
          "output_type": "execute_result",
          "data": {
            "application/vnd.google.colaboratory.intrinsic+json": {
              "type": "string"
            },
            "text/plain": [
              "''"
            ]
          },
          "metadata": {},
          "execution_count": 44
        }
      ]
    },
    {
      "cell_type": "code",
      "metadata": {
        "id": "jMvtrSDDny--"
      },
      "source": [
        "tf.config.set_soft_device_placement(True)\n",
        "history = model.fit(\n",
        "            X_train, y_train, \n",
        "            validation_data = (X_valid,y_valid),\n",
        "            verbose = 1,\n",
        "            batch_size = 10,\n",
        "            epochs=1,\n",
        "                   )"
      ],
      "execution_count": null,
      "outputs": []
    },
    {
      "cell_type": "code",
      "metadata": {
        "id": "GkWGQqR6Li1n"
      },
      "source": [
        "his_path = data_path + '/models'\n",
        "with open (his_path+'/history', 'rb') as file:\n",
        "  his1 = pickle.load(file)\n",
        "with open (his_path+'/history_resnet1', 'rb') as file:\n",
        "  his2 = pickle.load(file)"
      ],
      "execution_count": null,
      "outputs": []
    },
    {
      "cell_type": "code",
      "metadata": {
        "colab": {
          "base_uri": "https://localhost:8080/",
          "height": 279
        },
        "id": "nN3Cku6Yny--",
        "outputId": "484c2e20-187d-4413-b2a9-39fb01fdc7f5"
      },
      "source": [
        "import matplotlib.pyplot as plt\n",
        "\n",
        "fig, loss_ax = plt.subplots()\n",
        "acc_ax = loss_ax.twinx()\n",
        "\n",
        "loss_ax.plot(his1['loss'], 'y', label='train loss')\n",
        "loss_ax.plot(his1['val_loss'], 'r', label='val loss')\n",
        "loss_ax.set_xlabel('epoch')\n",
        "loss_ax.set_ylabel('loss')\n",
        "loss_ax.legend(loc='upper left')\n",
        "\n",
        "acc_ax.plot(his1['accuracy'], 'b', label='train acc')\n",
        "acc_ax.plot(his1['val_accuracy'], 'g', label='val acc')\n",
        "acc_ax.set_ylabel('accuracy')\n",
        "acc_ax.legend(loc='upper left')\n",
        "\n",
        "plt.show()"
      ],
      "execution_count": null,
      "outputs": [
        {
          "output_type": "display_data",
          "data": {
            "image/png": "[encoded data removed]",
            "text/plain": [
              "<Figure size 432x288 with 2 Axes>"
            ]
          },
          "metadata": {
            "needs_background": "light"
          }
        }
      ]
    },
    {
      "cell_type": "code",
      "metadata": {
        "colab": {
          "base_uri": "https://localhost:8080/",
          "height": 279
        },
        "id": "rCIOa3RsMr0Z",
        "outputId": "6cd03fa2-3835-40f0-e71c-a0d10f0b84af"
      },
      "source": [
        "fig, loss_ax = plt.subplots()\n",
        "acc_ax = loss_ax.twinx()\n",
        "\n",
        "loss_ax.plot(his2['loss'], 'y', label='train loss')\n",
        "loss_ax.plot(his2['val_loss'], 'r', label='val loss')\n",
        "loss_ax.set_xlabel('epoch')\n",
        "loss_ax.set_ylabel('loss')\n",
        "loss_ax.legend(loc='upper left')\n",
        "\n",
        "acc_ax.plot(his2['accuracy'], 'b', label='train acc')\n",
        "acc_ax.plot(his2['val_accuracy'], 'g', label='val acc')\n",
        "acc_ax.set_ylabel('accuracy')\n",
        "acc_ax.legend(loc='upper left')\n",
        "\n",
        "plt.show()"
      ],
      "execution_count": null,
      "outputs": [
        {
          "output_type": "display_data",
          "data": {
            "image/png": "[encoded data removed]",
            "text/plain": [
              "<Figure size 432x288 with 2 Axes>"
            ]
          },
          "metadata": {
            "needs_background": "light"
          }
        }
      ]
    },
    {
      "cell_type": "code",
      "metadata": {
        "colab": {
          "base_uri": "https://localhost:8080/"
        },
        "id": "zydHExa7ny--",
        "outputId": "2ad418da-a95c-42da-fab8-c9be4de9df80"
      },
      "source": [
        "new_test_image_directory = new_image_directory + '/test'\n",
        "new_test_image_directories = sorted(glob(new_test_image_directory + '/*'), key = lambda x : int(x.split('file_')[-1]))\n",
        "\n",
        "predictions = []\n",
        "for new_test_image_directory in tqdm(new_test_image_directories, total = len(new_test_image_directories)) :\n",
        "    image_paths = sorted(glob(new_test_image_directory + '/*.jpg'), key = lambda x : int(x.split('/')[-1].replace('.jpg','')))\n",
        "    image_len = len(image_paths)\n",
        "    test_images  = []\n",
        "    for image_path in image_paths:\n",
        "        img = image.load_img(image_path, target_size=(224,224,3))\n",
        "        img = image.img_to_array(img)\n",
        "        img = img/255\n",
        "        test_images.append(img)\n",
        "    prediction = np.mean(model.predict(np.array(test_images)), axis = 0)\n",
        "    predictions.append(prediction)"
      ],
      "execution_count": null,
      "outputs": [
        {
          "output_type": "stream",
          "name": "stderr",
          "text": [
            "0it [00:00, ?it/s]\n"
          ]
        }
      ]
    },
    {
      "cell_type": "code",
      "metadata": {
        "colab": {
          "base_uri": "https://localhost:8080/"
        },
        "id": "2MapMYGlLUrE",
        "outputId": "cc3be85f-43cf-489e-8381-c4ee30812ab4"
      },
      "source": [
        "predictions"
      ],
      "execution_count": null,
      "outputs": [
        {
          "output_type": "execute_result",
          "data": {
            "text/plain": [
              "[]"
            ]
          },
          "metadata": {},
          "execution_count": 18
        }
      ]
    },
    {
      "cell_type": "code",
      "metadata": {
        "id": "sKxmoK68n67A"
      },
      "source": [
        ""
      ],
      "execution_count": null,
      "outputs": []
    },
    {
      "cell_type": "code",
      "metadata": {
        "id": "ySBvhG21n6yf"
      },
      "source": [
        ""
      ],
      "execution_count": null,
      "outputs": []
    },
    {
      "cell_type": "code",
      "metadata": {
        "id": "kzhdBXJyn6km"
      },
      "source": [
        ""
      ],
      "execution_count": null,
      "outputs": []
    },
    {
      "cell_type": "code",
      "metadata": {
        "id": "QAhyZeB0n6FN"
      },
      "source": [
        ""
      ],
      "execution_count": null,
      "outputs": []
    },
    {
      "cell_type": "markdown",
      "metadata": {
        "id": "8Cby6Zz0n8qK"
      },
      "source": [
        "혹시 몰라서 copy"
      ]
    },
    {
      "cell_type": "code",
      "metadata": {
        "id": "qQs6yAv9nlPA",
        "outputId": "5039f994-a755-441d-ad95-da08c014f267"
      },
      "source": [
        "print(images.shape)\n",
        "print(targets.shape)"
      ],
      "execution_count": null,
      "outputs": [
        {
          "name": "stdout",
          "output_type": "stream",
          "text": [
            "(22218, 224, 224, 3)\n",
            "(22218, 6)\n"
          ]
        }
      ]
    },
    {
      "cell_type": "code",
      "metadata": {
        "id": "oOCS6bHvjiy7",
        "outputId": "400e3cc3-5d79-4711-ebd3-0327ef7533fb"
      },
      "source": [
        "train_idx, valid_idx = train_test_split(range(images.shape[0]), test_size = 0.2, stratify = stratify)\n",
        "\n",
        "X_train = images[train_idx]\n",
        "y_train = targets[train_idx]\n",
        "\n",
        "X_valid = images[valid_idx]\n",
        "y_valid = targets[valid_idx]\n",
        "\n",
        "print('X_train shape : ', X_train.shape)\n",
        "print('X_valid shape : ', X_valid.shape)\n",
        "print('y_train shape : ', y_train.shape)\n",
        "print('y_valid shape : ', y_valid.shape)"
      ],
      "execution_count": null,
      "outputs": [
        {
          "name": "stdout",
          "output_type": "stream",
          "text": [
            "X_train shape :  (17774, 224, 224, 3)\n",
            "X_valid shape :  (4444, 224, 224, 3)\n",
            "y_train shape :  (17774, 6)\n",
            "y_valid shape :  (4444, 6)\n"
          ]
        }
      ]
    },
    {
      "cell_type": "code",
      "metadata": {
        "id": "EE9EQrnMjiy7"
      },
      "source": [
        "baseModel = VGG16(input_shape = (224,224,3), weights='imagenet', include_top=False, )\n",
        "baseModel.trainable = False\n",
        "\n",
        "model_in = Input(shape = (224,224,3))\n",
        "base_model = baseModel(model_in)\n",
        "head_model = MaxPooling2D(pool_size=(7, 7))(base_model)\n",
        "head_model = Flatten(name=\"flatten\")(head_model)\n",
        "head_model = Dense(256, activation = 'relu')(head_model)\n",
        "head_model = Dropout(0.2)(head_model)\n",
        "head_model = Dense(32, activation = 'relu')(head_model)\n",
        "head_model = Dropout(0.2)(head_model)\n",
        "head_model = Dense(8, activation = 'relu')(head_model)\n",
        "head_model = Dropout(0.2)(head_model)\n",
        "\n",
        "model_out = Dense(classes.shape[1], activation=\"softmax\")(head_model)\n",
        "\n",
        "model = Model(inputs=model_in, outputs=model_out)\n",
        "\n",
        "model.compile(loss='categorical_crossentropy',optimizer='Adam',metrics=['accuracy'])"
      ],
      "execution_count": null,
      "outputs": []
    },
    {
      "cell_type": "code",
      "metadata": {
        "id": "uv4eAYD6jiy7",
        "outputId": "2c5cc073-a26d-4b87-dd0a-8f4d53b4a031"
      },
      "source": [
        "history = model.fit(\n",
        "            X_train, y_train, \n",
        "            validation_data = (X_valid,y_valid),\n",
        "            verbose = 1,\n",
        "            batch_size = 512,\n",
        "            epochs=20,\n",
        "                   )"
      ],
      "execution_count": null,
      "outputs": [
        {
          "name": "stdout",
          "output_type": "stream",
          "text": [
            "Epoch 1/20\n",
            "35/35 [==============================] - 21s 585ms/step - loss: 1.8091 - accuracy: 0.1786 - val_loss: 1.7915 - val_accuracy: 0.1791\n",
            "Epoch 2/20\n",
            "35/35 [==============================] - 20s 572ms/step - loss: 1.7842 - accuracy: 0.1962 - val_loss: 1.7554 - val_accuracy: 0.2565\n",
            "Epoch 3/20\n",
            "35/35 [==============================] - 20s 577ms/step - loss: 1.7489 - accuracy: 0.2432 - val_loss: 1.6933 - val_accuracy: 0.3510\n",
            "Epoch 4/20\n",
            "35/35 [==============================] - 20s 573ms/step - loss: 1.6501 - accuracy: 0.3006 - val_loss: 1.5116 - val_accuracy: 0.4370\n",
            "Epoch 5/20\n",
            "35/35 [==============================] - 20s 573ms/step - loss: 1.4607 - accuracy: 0.4221 - val_loss: 1.1799 - val_accuracy: 0.6503\n",
            "Epoch 6/20\n",
            "35/35 [==============================] - 20s 573ms/step - loss: 1.2116 - accuracy: 0.5340 - val_loss: 0.8793 - val_accuracy: 0.7538\n",
            "Epoch 7/20\n",
            "35/35 [==============================] - 20s 575ms/step - loss: 1.0142 - accuracy: 0.6247 - val_loss: 0.6756 - val_accuracy: 0.8141\n",
            "Epoch 8/20\n",
            "35/35 [==============================] - 20s 575ms/step - loss: 0.8833 - accuracy: 0.6820 - val_loss: 0.5851 - val_accuracy: 0.8391\n",
            "Epoch 9/20\n",
            "35/35 [==============================] - 20s 576ms/step - loss: 0.7425 - accuracy: 0.7358 - val_loss: 0.4380 - val_accuracy: 0.8857\n",
            "Epoch 10/20\n",
            "35/35 [==============================] - 20s 575ms/step - loss: 0.6565 - accuracy: 0.7659 - val_loss: 0.3701 - val_accuracy: 0.8978\n",
            "Epoch 11/20\n",
            "35/35 [==============================] - 20s 579ms/step - loss: 0.5979 - accuracy: 0.7822 - val_loss: 0.2831 - val_accuracy: 0.9341\n",
            "Epoch 12/20\n",
            "35/35 [==============================] - 20s 575ms/step - loss: 0.5230 - accuracy: 0.8099 - val_loss: 0.2367 - val_accuracy: 0.9435\n",
            "Epoch 13/20\n",
            "35/35 [==============================] - 20s 575ms/step - loss: 0.4817 - accuracy: 0.8242 - val_loss: 0.2099 - val_accuracy: 0.9523\n",
            "Epoch 14/20\n",
            "35/35 [==============================] - 20s 574ms/step - loss: 0.4531 - accuracy: 0.8370 - val_loss: 0.1848 - val_accuracy: 0.9572\n",
            "Epoch 15/20\n",
            "35/35 [==============================] - 20s 574ms/step - loss: 0.4248 - accuracy: 0.8433 - val_loss: 0.1695 - val_accuracy: 0.9620\n",
            "Epoch 16/20\n",
            "35/35 [==============================] - 20s 576ms/step - loss: 0.3967 - accuracy: 0.8543 - val_loss: 0.1493 - val_accuracy: 0.9687\n",
            "Epoch 17/20\n",
            "35/35 [==============================] - 20s 577ms/step - loss: 0.3759 - accuracy: 0.8631 - val_loss: 0.1339 - val_accuracy: 0.9734\n",
            "Epoch 18/20\n",
            "35/35 [==============================] - 20s 575ms/step - loss: 0.3650 - accuracy: 0.8673 - val_loss: 0.1284 - val_accuracy: 0.9689\n",
            "Epoch 19/20\n",
            "35/35 [==============================] - 20s 575ms/step - loss: 0.3438 - accuracy: 0.8743 - val_loss: 0.1122 - val_accuracy: 0.9750\n",
            "Epoch 20/20\n",
            "35/35 [==============================] - 20s 575ms/step - loss: 0.3270 - accuracy: 0.8818 - val_loss: 0.1020 - val_accuracy: 0.9761\n"
          ]
        }
      ]
    },
    {
      "cell_type": "code",
      "metadata": {
        "id": "95HG43F8jiy8",
        "outputId": "0f56d98c-bfa5-4b85-c935-2a0fee4c63b8"
      },
      "source": [
        "import matplotlib.pyplot as plt\n",
        "\n",
        "fig, loss_ax = plt.subplots()\n",
        "acc_ax = loss_ax.twinx()\n",
        "\n",
        "loss_ax.plot(history.history['loss'], 'y', label='train loss')\n",
        "loss_ax.plot(history.history['val_loss'], 'r', label='val loss')\n",
        "loss_ax.set_xlabel('epoch')\n",
        "loss_ax.set_ylabel('loss')\n",
        "loss_ax.legend(loc='upper left')\n",
        "\n",
        "acc_ax.plot(history.history['accuracy'], 'b', label='train acc')\n",
        "acc_ax.plot(history.history['val_accuracy'], 'g', label='val acc')\n",
        "acc_ax.set_ylabel('accuracy')\n",
        "acc_ax.legend(loc='upper left')\n",
        "\n",
        "plt.show()"
      ],
      "execution_count": null,
      "outputs": [
        {
          "data": {
            "image/png": "[encoded data removed]",
            "text/plain": [
              "<Figure size 432x288 with 2 Axes>"
            ]
          },
          "metadata": {
            "needs_background": "light"
          },
          "output_type": "display_data"
        }
      ]
    },
    {
      "cell_type": "code",
      "metadata": {
        "id": "nz4lcO3Ijiy8",
        "outputId": "dff90789-9151-47a0-ea90-2f3caee46d6d"
      },
      "source": [
        "new_test_image_directory = new_image_directory + '/test'\n",
        "new_test_image_directories = sorted(glob(new_test_image_directory + '/*'), key = lambda x : int(x.split('file_')[-1]))\n",
        "\n",
        "predictions = []\n",
        "for new_test_image_directory in tqdm(new_test_image_directories, total = len(new_test_image_directories)) :\n",
        "    image_paths = sorted(glob(new_test_image_directory + '/*.jpg'), key = lambda x : int(x.split('/')[-1].replace('.jpg','')))\n",
        "    image_len = len(image_paths)\n",
        "    test_images  = []\n",
        "    for image_path in image_paths:\n",
        "        img = image.load_img(image_path, target_size=(224,224,3))\n",
        "        img = image.img_to_array(img)\n",
        "        img = img/255\n",
        "        test_images.append(img)\n",
        "    prediction = np.mean(model.predict(np.array(test_images)), axis = 0)\n",
        "    predictions.append(prediction)"
      ],
      "execution_count": null,
      "outputs": [
        {
          "name": "stderr",
          "output_type": "stream",
          "text": [
            "100%|██████████| 45/45 [00:15<00:00,  2.99it/s]\n"
          ]
        }
      ]
    },
    {
      "cell_type": "code",
      "metadata": {
        "id": "3Cus5v33jiy8",
        "outputId": "c7986ad2-4757-4f23-a19f-88ad3bc557ad"
      },
      "source": [
        "sample_submission.iloc[:,1:] = predictions\n",
        "display(sample_submission.head())\n",
        "sample_submission.to_csv('./BASELINE.csv', index=False)"
      ],
      "execution_count": null,
      "outputs": [
        {
          "data": {
            "text/html": [
              "<div>\n",
              "<style scoped>\n",
              "    .dataframe tbody tr th:only-of-type {\n",
              "        vertical-align: middle;\n",
              "    }\n",
              "\n",
              "    .dataframe tbody tr th {\n",
              "        vertical-align: top;\n",
              "    }\n",
              "\n",
              "    .dataframe thead th {\n",
              "        text-align: right;\n",
              "    }\n",
              "</style>\n",
              "<table border=\"1\" class=\"dataframe\">\n",
              "  <thead>\n",
              "    <tr style=\"text-align: right;\">\n",
              "      <th></th>\n",
              "      <th>file_path</th>\n",
              "      <th>Label_0</th>\n",
              "      <th>Label_1</th>\n",
              "      <th>Label_2</th>\n",
              "      <th>Label_3</th>\n",
              "      <th>Label_4</th>\n",
              "      <th>Label_5</th>\n",
              "    </tr>\n",
              "  </thead>\n",
              "  <tbody>\n",
              "    <tr>\n",
              "      <th>0</th>\n",
              "      <td>./test\\file_142</td>\n",
              "      <td>0.048860</td>\n",
              "      <td>0.029996</td>\n",
              "      <td>0.253161</td>\n",
              "      <td>0.269593</td>\n",
              "      <td>0.033256</td>\n",
              "      <td>0.365135</td>\n",
              "    </tr>\n",
              "    <tr>\n",
              "      <th>1</th>\n",
              "      <td>./test\\file_143</td>\n",
              "      <td>0.004876</td>\n",
              "      <td>0.003066</td>\n",
              "      <td>0.098355</td>\n",
              "      <td>0.130929</td>\n",
              "      <td>0.034184</td>\n",
              "      <td>0.728591</td>\n",
              "    </tr>\n",
              "    <tr>\n",
              "      <th>2</th>\n",
              "      <td>./test\\file_144</td>\n",
              "      <td>0.036387</td>\n",
              "      <td>0.005520</td>\n",
              "      <td>0.043648</td>\n",
              "      <td>0.833246</td>\n",
              "      <td>0.010118</td>\n",
              "      <td>0.071081</td>\n",
              "    </tr>\n",
              "    <tr>\n",
              "      <th>3</th>\n",
              "      <td>./test\\file_145</td>\n",
              "      <td>0.012213</td>\n",
              "      <td>0.015196</td>\n",
              "      <td>0.609207</td>\n",
              "      <td>0.054274</td>\n",
              "      <td>0.015465</td>\n",
              "      <td>0.293646</td>\n",
              "    </tr>\n",
              "    <tr>\n",
              "      <th>4</th>\n",
              "      <td>./test\\file_146</td>\n",
              "      <td>0.861626</td>\n",
              "      <td>0.011323</td>\n",
              "      <td>0.014597</td>\n",
              "      <td>0.024359</td>\n",
              "      <td>0.059995</td>\n",
              "      <td>0.028100</td>\n",
              "    </tr>\n",
              "  </tbody>\n",
              "</table>\n",
              "</div>"
            ],
            "text/plain": [
              "         file_path   Label_0   Label_1   Label_2   Label_3   Label_4   Label_5\n",
              "0  ./test\\file_142  0.048860  0.029996  0.253161  0.269593  0.033256  0.365135\n",
              "1  ./test\\file_143  0.004876  0.003066  0.098355  0.130929  0.034184  0.728591\n",
              "2  ./test\\file_144  0.036387  0.005520  0.043648  0.833246  0.010118  0.071081\n",
              "3  ./test\\file_145  0.012213  0.015196  0.609207  0.054274  0.015465  0.293646\n",
              "4  ./test\\file_146  0.861626  0.011323  0.014597  0.024359  0.059995  0.028100"
            ]
          },
          "metadata": {},
          "output_type": "display_data"
        }
      ]
    },
    {
      "cell_type": "code",
      "metadata": {
        "id": "XhwA2sopvSZ7"
      },
      "source": [
        ""
      ],
      "execution_count": null,
      "outputs": []
    }
  ]
}