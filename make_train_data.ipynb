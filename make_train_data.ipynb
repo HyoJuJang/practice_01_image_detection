{
  "nbformat": 4,
  "nbformat_minor": 0,
  "metadata": {
    "kernelspec": {
      "display_name": "Python 3",
      "language": "python",
      "name": "python3"
    },
    "language_info": {
      "codemirror_mode": {
        "name": "ipython",
        "version": 3
      },
      "file_extension": ".py",
      "mimetype": "text/x-python",
      "name": "python",
      "nbconvert_exporter": "python",
      "pygments_lexer": "ipython3",
      "version": "3.8.3"
    },
    "colab": {
      "name": "make_train_data.ipynb",
      "provenance": [],
      "collapsed_sections": [],
      "machine_shape": "hm",
      "include_colab_link": true
    }
  },
  "cells": [
    {
      "cell_type": "markdown",
      "metadata": {
        "id": "view-in-github",
        "colab_type": "text"
      },
      "source": [
        "<a href=\"https://colab.research.google.com/github/HyoJuJang/traffic/blob/master/make_train_data.ipynb\" target=\"_parent\"><img src=\"https://colab.research.google.com/assets/colab-badge.svg\" alt=\"Open In Colab\"/></a>"
      ]
    },
    {
      "cell_type": "markdown",
      "metadata": {
        "id": "HAUzHk0sjiyo"
      },
      "source": [
        "# BASELINE"
      ]
    },
    {
      "cell_type": "code",
      "metadata": {
        "id": "XCevrgb1z-6k"
      },
      "source": [
        ""
      ],
      "execution_count": null,
      "outputs": []
    },
    {
      "cell_type": "markdown",
      "metadata": {
        "id": "sV797uQrjiys"
      },
      "source": [
        "### Library"
      ]
    },
    {
      "cell_type": "code",
      "metadata": {
        "id": "MPsNG27sjiys"
      },
      "source": [
        "# 데이터 보기\n",
        "import pandas as pd\n",
        "import numpy as np\n",
        "#from glob import glob\n",
        "\n",
        "# 파일경로 설정\n",
        "import os\n",
        "import json"
      ],
      "execution_count": null,
      "outputs": []
    },
    {
      "cell_type": "code",
      "metadata": {
        "colab": {
          "base_uri": "https://localhost:8080/"
        },
        "id": "SC8Ef0_6j0nx",
        "outputId": "b1f7beed-af50-446d-e5e2-1c837a8cc6bf"
      },
      "source": [
        "from google.colab import drive\n",
        "drive.mount('/content/drive')"
      ],
      "execution_count": null,
      "outputs": [
        {
          "output_type": "stream",
          "name": "stdout",
          "text": [
            "Drive already mounted at /content/drive; to attempt to forcibly remount, call drive.mount(\"/content/drive\", force_remount=True).\n"
          ]
        }
      ]
    },
    {
      "cell_type": "code",
      "metadata": {
        "id": "C53lfaLJjiyu"
      },
      "source": [
        "data_path = '/content/drive/MyDrive/2021_2/dacon/go_traffic_file'\n",
        "\n",
        "\n",
        "train_path = data_path + '/train'\n",
        "#test_path = data_path + '/test'\n",
        "\n",
        "new_image_directory = data_path + '/new_images'\n",
        "new_train_image_directory = new_image_directory + '/train'\n",
        "#new_test_image_directory = new_image_directory + '/test'\n",
        "\n",
        "action_information = pd.read_csv(data_path + '/action_information.csv')\n",
        "#sample_submission = pd.read_csv(data_path + '/sample_submission.csv')\n",
        "\n",
        "classes = pd.get_dummies(action_information[['Label']], columns = ['Label']).to_numpy()"
      ],
      "execution_count": null,
      "outputs": []
    },
    {
      "cell_type": "markdown",
      "metadata": {
        "id": "6tatAHERjiy5"
      },
      "source": [
        "# Make train data as arrays"
      ]
    },
    {
      "cell_type": "code",
      "metadata": {
        "id": "Cn96HXrpOcwg"
      },
      "source": [
        "import tensorflow as tf\n",
        "from tensorflow.keras.preprocessing import image"
      ],
      "execution_count": null,
      "outputs": []
    },
    {
      "cell_type": "markdown",
      "metadata": {
        "id": "C7AH0ZqC4iPp"
      },
      "source": [
        "## convert & save"
      ]
    },
    {
      "cell_type": "code",
      "metadata": {
        "id": "FSIn54r6j-sr"
      },
      "source": [
        "new_train_image_directories = sorted(glob(new_train_image_directory + '/*'), key = lambda x : int(x.split('/')[-1].split('_')[-1]))"
      ],
      "execution_count": null,
      "outputs": []
    },
    {
      "cell_type": "code",
      "metadata": {
        "id": "b6SfLE-0kduO"
      },
      "source": [
        "train_answer = []\n",
        "train_image_directories = sorted(glob(train_path + '/*'), key = lambda x : int(x.split('_')[-1]))\n",
        "for train_image_directory in train_image_directories:\n",
        "  json_path = glob(train_image_directory + '/*.json')[0]\n",
        "  js = json.load(open(json_path))\n",
        "  action = js.get('action')\n",
        "  train_answer.append(action)"
      ],
      "execution_count": null,
      "outputs": []
    },
    {
      "cell_type": "code",
      "metadata": {
        "colab": {
          "base_uri": "https://localhost:8080/"
        },
        "id": "UXPIogUCmKu5",
        "outputId": "85e8946a-642d-405b-c8c7-b5ceddf72b8b"
      },
      "source": [
        "len(new_train_image_directories), len(train_answer)"
      ],
      "execution_count": null,
      "outputs": [
        {
          "output_type": "execute_result",
          "data": {
            "text/plain": [
              "(142, 142)"
            ]
          },
          "metadata": {},
          "execution_count": 45
        }
      ]
    },
    {
      "cell_type": "code",
      "metadata": {
        "id": "R3yRZ9nQ8vx6",
        "colab": {
          "base_uri": "https://localhost:8080/"
        },
        "outputId": "8ce9b00b-4883-4a2f-eb29-90e47fe837cd"
      },
      "source": [
        "# 33번 file이 잘못 annotation 되었다고 함\n",
        "train_answer[33] = 5\n",
        "train_answer[30:35]"
      ],
      "execution_count": null,
      "outputs": [
        {
          "output_type": "execute_result",
          "data": {
            "text/plain": [
              "[1, 5, 5, 5, 5]"
            ]
          },
          "metadata": {},
          "execution_count": 23
        }
      ]
    },
    {
      "cell_type": "code",
      "metadata": {
        "id": "gUJusM0Ujjek"
      },
      "source": [
        "new_train_image_directories = new_train_image_directories[:41]\n",
        "train_answer = train_answer[:41]\n",
        "new_train_image_directories"
      ],
      "execution_count": null,
      "outputs": []
    },
    {
      "cell_type": "code",
      "metadata": {
        "id": "wxcfzTjmjiy6"
      },
      "source": [
        "tf.config.set_soft_device_placement(True)\n",
        "images = []\n",
        "targets = []\n",
        "stratify = []\n",
        "for num, (new_train_image_directory, action) in tqdm(enumerate(zip(new_train_image_directories, train_answer)), total = len(new_train_image_directories)) : \n",
        "    image_paths = sorted(glob(new_train_image_directory + '/*'), key = lambda x : int(x.split('/')[-1].replace('.jpg','')))\n",
        "    image_len = len(image_paths)\n",
        "    for image_path in image_paths : \n",
        "        img = image.load_img(image_path, target_size=(224,224,3))\n",
        "        img = image.img_to_array(img)\n",
        "        img = img/255\n",
        "        images.append(img)\n",
        "        targets.append(classes[action])\n",
        "        stratify.append(action)\n",
        "\n",
        "images = np.array(images)\n",
        "targets = np.array(targets)"
      ],
      "execution_count": null,
      "outputs": []
    },
    {
      "cell_type": "code",
      "metadata": {
        "id": "uIe0mAtN-YI2"
      },
      "source": [
        "import pickle"
      ],
      "execution_count": null,
      "outputs": []
    },
    {
      "cell_type": "code",
      "metadata": {
        "id": "ooGPp-ddPmJl"
      },
      "source": [
        "# np, pickle 쓰기 ###### 주의 : 덮어쓰여짐 ######\n",
        "# 용량이 너무 커서 파일을 총 4개로 나눠서 저장함(0:41, 41:91, 91:121, 121:142) -> images는 2개로 합침(img_n1 0:91, img_n2 91:142)\n",
        "# images는 np로 target(첫번째파일은 pickle), stratify는 pickle로\n",
        "\n",
        "#np.save('/content/drive/MyDrive/2021_2/dacon/go_traffic_file/train_img_4', images)\n",
        "\n",
        "#with open (\"/content/drive/MyDrive/2021_2/dacon/go_traffic_file/train_tar_2\", \"wb\") as file:\n",
        "  #pickle.dump(targets, file)\n",
        "\n",
        "#with open (\"/content/drive/MyDrive/2021_2/dacon/go_traffic_file/train_stratify_2\", \"wb\") as file:\n",
        "  #pickle.dump(stratify, file)"
      ],
      "execution_count": null,
      "outputs": []
    },
    {
      "cell_type": "markdown",
      "metadata": {
        "id": "v5Gesp8H42t0"
      },
      "source": [
        "## load & reconvert : 최종 train data 만들기"
      ]
    },
    {
      "cell_type": "markdown",
      "metadata": {
        "id": "b3hYffWF4OqU"
      },
      "source": [
        "###images"
      ]
    },
    {
      "cell_type": "code",
      "metadata": {
        "id": "V5DzTqaVDfop"
      },
      "source": [
        "# 읽기\n",
        "img_n1 = np.load('/content/drive/MyDrive/2021_2/dacon/go_traffic_file/train_array/train_img_n1.npy')\n",
        "img_n2 = np.load('/content/drive/MyDrive/2021_2/dacon/go_traffic_file/train_array/train_img_n2.npy')"
      ],
      "execution_count": null,
      "outputs": []
    },
    {
      "cell_type": "code",
      "metadata": {
        "id": "zO4aLiScx0lH"
      },
      "source": [
        "img_n1 = img_n1.astype('float16')"
      ],
      "execution_count": null,
      "outputs": []
    },
    {
      "cell_type": "code",
      "metadata": {
        "id": "qpgOTe2BDLhg"
      },
      "source": [
        "# 합치기\n",
        "img = np.concatenate([img_n1, img_n2], axis=0)"
      ],
      "execution_count": null,
      "outputs": []
    },
    {
      "cell_type": "code",
      "metadata": {
        "id": "OpgnY58rDfG3"
      },
      "source": [
        "# 저장\n",
        "np.save('/content/drive/MyDrive/2021_2/dacon/go_traffic_file/train_img', img)"
      ],
      "execution_count": null,
      "outputs": []
    },
    {
      "cell_type": "markdown",
      "metadata": {
        "id": "miaIkb4P4Ujh"
      },
      "source": [
        "### target, stratify"
      ]
    },
    {
      "cell_type": "code",
      "metadata": {
        "id": "bTyROn-U5tRW"
      },
      "source": [
        "import pickle"
      ],
      "execution_count": null,
      "outputs": []
    },
    {
      "cell_type": "code",
      "metadata": {
        "id": "NKpceDYz66w7"
      },
      "source": [
        "with open(\"/content/drive/MyDrive/2021_2/dacon/go_traffic_file/array_tar_41\", \"rb\" ) as file:\n",
        "    targets1 = pickle.load(file)\n",
        "with open(\"/content/drive/MyDrive/2021_2/dacon/go_traffic_file/train_tar_2\", \"rb\" ) as file:\n",
        "    targets2 = pickle.load(file)\n",
        "with open(\"/content/drive/MyDrive/2021_2/dacon/go_traffic_file/train_tar_3\", \"rb\" ) as file:\n",
        "    target3 = pickle.load(file)\n",
        "with open(\"/content/drive/MyDrive/2021_2/dacon/go_traffic_file/train_tar_4\", \"rb\" ) as file:\n",
        "    targets4 = pickle.load(file)"
      ],
      "execution_count": null,
      "outputs": []
    },
    {
      "cell_type": "code",
      "metadata": {
        "id": "GRRCfeEJ5wUv"
      },
      "source": [
        "tar = np.concatenate([targets1, targets2, target3, targets4], axis=0)"
      ],
      "execution_count": null,
      "outputs": []
    },
    {
      "cell_type": "code",
      "metadata": {
        "colab": {
          "base_uri": "https://localhost:8080/"
        },
        "id": "1feMbARX58JL",
        "outputId": "be7b0e34-2d6b-4fcf-8b40-56894be19191"
      },
      "source": [
        "tar.shape"
      ],
      "execution_count": null,
      "outputs": [
        {
          "output_type": "execute_result",
          "data": {
            "text/plain": [
              "(22218, 6)"
            ]
          },
          "metadata": {},
          "execution_count": 7
        }
      ]
    },
    {
      "cell_type": "code",
      "metadata": {
        "id": "lG08CDkp6BJu"
      },
      "source": [
        "with open('/content/drive/MyDrive/2021_2/dacon/go_traffic_file/train_array/tar', \"wb\") as file:\n",
        "  pickle.dump(tar, file)"
      ],
      "execution_count": null,
      "outputs": []
    },
    {
      "cell_type": "code",
      "metadata": {
        "id": "otIRYsjB0Nzy"
      },
      "source": [
        "with open (\"/content/drive/MyDrive/2021_2/dacon/go_traffic_file/train_stratify_1\", \"rb\") as file:\n",
        "  stratify1 = pickle.load(file)\n",
        "with open (\"/content/drive/MyDrive/2021_2/dacon/go_traffic_file/train_stratify_2\", \"rb\") as file:\n",
        "  stratify2 = pickle.load(file)\n",
        "with open (\"/content/drive/MyDrive/2021_2/dacon/go_traffic_file/train_stratify_3\", \"rb\") as file:\n",
        "  stratify3 = pickle.load(file)\n",
        "with open (\"/content/drive/MyDrive/2021_2/dacon/go_traffic_file/train_stratify_4\", \"rb\") as file:\n",
        "  stratify4 = pickle.load(file)"
      ],
      "execution_count": null,
      "outputs": []
    },
    {
      "cell_type": "code",
      "metadata": {
        "id": "-cEL0JyR6uJv"
      },
      "source": [
        "stra = np.concatenate([stratify1, stratify2, stratify3, stratify4], axis=0)"
      ],
      "execution_count": null,
      "outputs": []
    },
    {
      "cell_type": "code",
      "metadata": {
        "id": "C85-17DU7xat"
      },
      "source": [
        "stra = list(stra)"
      ],
      "execution_count": null,
      "outputs": []
    },
    {
      "cell_type": "code",
      "metadata": {
        "id": "APSYoqCi8JpX"
      },
      "source": [
        "with open ('/content/drive/MyDrive/2021_2/dacon/go_traffic_file/train_array/stra', \"wb\") as file:\n",
        "  pickle.dump(stra, file)"
      ],
      "execution_count": null,
      "outputs": []
    },
    {
      "cell_type": "code",
      "metadata": {
        "id": "oUb15EU58IFv"
      },
      "source": [
        ""
      ],
      "execution_count": null,
      "outputs": []
    },
    {
      "cell_type": "markdown",
      "metadata": {
        "id": "fSomk3Ig9Clk"
      },
      "source": [
        "# Save files"
      ]
    },
    {
      "cell_type": "code",
      "metadata": {
        "id": "YzPOthsMjiy5"
      },
      "source": [
        "import numpy as np\n",
        "import pandas as pd\n",
        "import pickle"
      ],
      "execution_count": null,
      "outputs": []
    },
    {
      "cell_type": "code",
      "metadata": {
        "id": "mJ0zxTrELret"
      },
      "source": [
        "from sklearn.model_selection import train_test_split"
      ],
      "execution_count": null,
      "outputs": []
    },
    {
      "cell_type": "code",
      "metadata": {
        "id": "rM8r58iL9AOc"
      },
      "source": [
        "images = np.load('/content/drive/MyDrive/2021_2/dacon/go_traffic_file/train_array/img_float16.npy')\n",
        "with open('/content/drive/MyDrive/2021_2/dacon/go_traffic_file/train_array/tar', 'rb') as file:\n",
        "  targets = pickle.load(file)\n",
        "with open('/content/drive/MyDrive/2021_2/dacon/go_traffic_file/train_array/stra', 'rb') as file:\n",
        "  stratify = pickle.load(file)"
      ],
      "execution_count": null,
      "outputs": []
    },
    {
      "cell_type": "code",
      "metadata": {
        "colab": {
          "base_uri": "https://localhost:8080/"
        },
        "id": "xjAZn3Jkny-8",
        "outputId": "9181c122-4e62-4a00-c56f-c350521e12ba"
      },
      "source": [
        "train_idx, valid_idx = train_test_split(range(images.shape[0]), test_size = 0.2, stratify = stratify)\n",
        "\n",
        "X_train = images[train_idx]\n",
        "y_train = targets[train_idx]\n",
        "\n",
        "X_valid = images[valid_idx]\n",
        "y_valid = targets[valid_idx]\n",
        "\n",
        "print('X_train shape : ', X_train.shape)\n",
        "print('X_valid shape : ', X_valid.shape)\n",
        "print('y_train shape : ', y_train.shape)\n",
        "print('y_valid shape : ', y_valid.shape)"
      ],
      "execution_count": null,
      "outputs": [
        {
          "output_type": "stream",
          "name": "stdout",
          "text": [
            "X_train shape :  (17774, 224, 224, 3)\n",
            "X_valid shape :  (4444, 224, 224, 3)\n",
            "y_train shape :  (17774, 6)\n",
            "y_valid shape :  (4444, 6)\n"
          ]
        }
      ]
    },
    {
      "cell_type": "code",
      "metadata": {
        "id": "BkUe63MxM7hE"
      },
      "source": [
        "np.save('/content/drive/MyDrive/2021_2/dacon/go_traffic_file/train_array/train_idx',train_idx)"
      ],
      "execution_count": null,
      "outputs": []
    },
    {
      "cell_type": "code",
      "metadata": {
        "id": "sR7ALh1VNHcB"
      },
      "source": [
        "np.save('/content/drive/MyDrive/2021_2/dacon/go_traffic_file/train_array/valid_idx',valid_idx)"
      ],
      "execution_count": null,
      "outputs": []
    },
    {
      "cell_type": "code",
      "metadata": {
        "id": "7rzBYrkJLwYy"
      },
      "source": [
        "np.save('/content/drive/MyDrive/2021_2/dacon/go_traffic_file/train_array/train_X', X_train)"
      ],
      "execution_count": null,
      "outputs": []
    },
    {
      "cell_type": "code",
      "metadata": {
        "id": "Sx9WJOIbMQYy"
      },
      "source": [
        "np.save('/content/drive/MyDrive/2021_2/dacon/go_traffic_file/train_array/train_y', y_train)"
      ],
      "execution_count": null,
      "outputs": []
    },
    {
      "cell_type": "code",
      "metadata": {
        "id": "KdPDVRqjNoMh"
      },
      "source": [
        "np.save('/content/drive/MyDrive/2021_2/dacon/go_traffic_file/train_array/valid_X', X_valid)\n",
        "np.save('/content/drive/MyDrive/2021_2/dacon/go_traffic_file/train_array/valid_y', y_valid)"
      ],
      "execution_count": null,
      "outputs": []
    }
  ]
}